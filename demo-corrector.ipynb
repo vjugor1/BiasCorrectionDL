{
 "cells": [
  {
   "cell_type": "markdown",
   "id": "55a2eeb4-69f3-4b1e-bb22-dbb1ef465dd1",
   "metadata": {},
   "source": [
    "<img src=\"res/header_cropland.png\" alt=\"title\" >\n",
    "\n",
    "<p ><span style=\"font-size:14px\"><b>Corrector</b> enables early estimation of possible ESG risks based on severe weather events prediction.<br> Key features include:\n",
    "<br>\n",
    "- Feature 1\n",
    "<br>\n",
    "- Feature 2\n",
    "<br>\n",
    "</span></p>"
   ]
  },
  {
   "cell_type": "code",
   "execution_count": 1,
   "id": "dd3306c1",
   "metadata": {},
   "outputs": [],
   "source": [
    "# Necessary library imports\n",
    "from utils_corrector import *\n",
    "import ipywidgets as widgets\n",
    "from IPython.display import display"
   ]
  },
  {
   "cell_type": "code",
   "execution_count": 2,
   "id": "bb6ee3c8-f64e-4d6d-bced-f761fa8dd222",
   "metadata": {
    "jupyter": {
     "source_hidden": true
    }
   },
   "outputs": [
    {
     "data": {
      "application/vnd.jupyter.widget-view+json": {
       "model_id": "35d52d2f0c244f84a40bcd524e510893",
       "version_major": 2,
       "version_minor": 0
      },
      "text/plain": [
       "VBox(children=(Dropdown(description='Variable:', options=('wind', 'temp'), value='wind'), SelectionSlider(cont…"
      ]
     },
     "metadata": {},
     "output_type": "display_data"
    },
    {
     "data": {
      "application/vnd.jupyter.widget-view+json": {
       "model_id": "595e66ade55e4e668b2cc45705a8ff66",
       "version_major": 2,
       "version_minor": 0
      },
      "text/plain": [
       "Output()"
      ]
     },
     "metadata": {},
     "output_type": "display_data"
    }
   ],
   "source": [
    "out = widgets.Output()\n",
    "\n",
    "def plot_handler(b):    \n",
    "    min_lat = min_latitude_input.value\n",
    "    max_lat = max_latitude_input.value\n",
    "    min_lon = min_longitude_input.value\n",
    "    max_lon = max_longitude_input.value\n",
    "    date    = date_slider.value\n",
    "\n",
    "    if not sanity_check(min_lat, max_lat, min_lon, max_lon):\n",
    "        return\n",
    "\n",
    "    file_path = os.path.join(\n",
    "        \"/app/wind/data/03-results\",\n",
    "        f\"result_test_{variable_dropdown.value}.csv\",\n",
    "    )\n",
    "    if os.path.exists(file_path):\n",
    "        with out:\n",
    "            plot_pred(file_path, date, min_lat, min_lon, max_lat, max_lon)\n",
    "    else:\n",
    "        print(f\"File not found: {file_path}\")\n",
    "\n",
    "    \n",
    "\n",
    "# Pre-check results' existence\n",
    "assert os.path.exists(\"/app/wind/data/03-results/result_test_temp.csv\"), \"no results for temperature found\"\n",
    "assert os.path.exists(\"/app/wind/data/03-results/result_test_wind.csv\"), \"no results for wind found\"\n",
    "\n",
    "# Define daterange available\n",
    "temp_df = load_eval_df('/app/wind/data/03-results/result_test_temp.csv')\n",
    "wind_df = load_eval_df('/app/wind/data/03-results/result_test_wind.csv')\n",
    "date_range_temp = temp_df['date']\n",
    "date_range_wind = wind_df['date']\n",
    "available_time_range = sorted(list(set(date_range_temp).intersection(set(date_range_wind))))\n",
    "available_lat_range = sorted(list(set(temp_df['lat']).intersection(set(wind_df['lat']))))\n",
    "available_lon_range = sorted(list(set(temp_df['lon']).intersection(set(wind_df['lon']))))\n",
    "\n",
    "\n",
    "\n",
    "# Widgets for latitude and longitude bounds\n",
    "min_latitude_input = widgets.BoundedFloatText(\n",
    "    value=min(available_lat_range), min=min(available_lat_range), max=max(available_lat_range), step=0.01, description=\"Min Latitude:\"\n",
    ")\n",
    "max_latitude_input = widgets.BoundedFloatText(\n",
    "    value=max(available_lat_range), min=min(available_lat_range), max=max(available_lat_range), step=0.01, description=\"Max Latitude:\"\n",
    ")\n",
    "min_longitude_input = widgets.BoundedFloatText(\n",
    "    value=min(available_lon_range), min=min(available_lon_range), max=max(available_lon_range), step=0.01, description=\"Min Longitude:\"\n",
    ")\n",
    "max_longitude_input = widgets.BoundedFloatText(\n",
    "    value=max(available_lon_range), min=min(available_lon_range), max=max(available_lon_range), step=0.01, description=\"Max Longitude:\"\n",
    ")\n",
    "# Date selector-slider\n",
    "date_slider = widgets.SelectionSlider(\n",
    "    options=available_time_range,\n",
    "    value=available_time_range[0],\n",
    "    description='Quantile correction date',\n",
    "    disabled=False,\n",
    "    continuous_update=False,\n",
    "    orientation='horizontal',\n",
    "    readout=True\n",
    ")\n",
    "# Variable selection dropdown\n",
    "variable_dropdown = widgets.Dropdown(\n",
    "    options=[\"wind\", \"temp\"], value=\"wind\", description=\"Variable:\"\n",
    ")\n",
    "\n",
    "plot_button = widgets.Button(description=\"Plot Data\")\n",
    "plot_button.on_click(plot_handler)\n",
    "\n",
    "# Layout configuration\n",
    "box_layout = widgets.Layout(\n",
    "    display=\"flex\", flex_flow=\"column\", align_items=\"center\", height=\"450px\"\n",
    ")\n",
    "inputs_layout = widgets.HBox(\n",
    "    [min_latitude_input, max_latitude_input, min_longitude_input, max_longitude_input]\n",
    ")\n",
    "\n",
    "vbox = widgets.VBox(\n",
    "    [\n",
    "        variable_dropdown,\n",
    "        date_slider,\n",
    "        inputs_layout,\n",
    "        plot_button,\n",
    "    ],\n",
    "    layout=box_layout,\n",
    ")\n",
    "\n",
    "# Display the UI components\n",
    "display(vbox)\n",
    "display(out)"
   ]
  },
  {
   "cell_type": "code",
   "execution_count": null,
   "id": "60ddf995",
   "metadata": {},
   "outputs": [],
   "source": []
  }
 ],
 "metadata": {
  "interpreter": {
   "hash": "d90e39cc08b73d3478c0eb0c2e5312ef716da975abace5bc347293093a0c98c2"
  },
  "kernelspec": {
   "display_name": "Python 3.10.13 ('.venv')",
   "language": "python",
   "name": "python3"
  },
  "language_info": {
   "codemirror_mode": {
    "name": "ipython",
    "version": 3
   },
   "file_extension": ".py",
   "mimetype": "text/x-python",
   "name": "python",
   "nbconvert_exporter": "python",
   "pygments_lexer": "ipython3",
   "version": "3.10.13"
  }
 },
 "nbformat": 4,
 "nbformat_minor": 5
}
