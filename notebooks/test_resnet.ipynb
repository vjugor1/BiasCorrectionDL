{
 "cells": [
  {
   "cell_type": "code",
   "execution_count": 1,
   "metadata": {},
   "outputs": [],
   "source": [
    "import torch\n",
    "from torch import nn"
   ]
  },
  {
   "cell_type": "code",
   "execution_count": 5,
   "metadata": {},
   "outputs": [],
   "source": [
    "class PeriodicPadding2D(nn.Module):\n",
    "    def __init__(self, pad_width, **kwargs):\n",
    "        super().__init__(**kwargs)\n",
    "        self.pad_width = pad_width\n",
    "\n",
    "    def forward(self, inputs, **kwargs):\n",
    "        if self.pad_width == 0:\n",
    "            return inputs\n",
    "        inputs_padded = torch.cat(\n",
    "            (\n",
    "                inputs[:, :, :, -self.pad_width :],\n",
    "                inputs,\n",
    "                inputs[:, :, :, : self.pad_width],\n",
    "            ),\n",
    "            dim=-1,\n",
    "        )\n",
    "        # Zero padding in the lat direction\n",
    "        inputs_padded = nn.functional.pad(\n",
    "            inputs_padded, (0, 0, self.pad_width, self.pad_width)\n",
    "        )\n",
    "        return inputs_padded\n",
    "\n",
    "\n",
    "class PeriodicConv2D(nn.Module):\n",
    "    def __init__(\n",
    "        self, in_channels, out_channels, kernel_size, stride=1, padding=0, **kwargs\n",
    "    ):\n",
    "        super().__init__(**kwargs)\n",
    "        self.padding = PeriodicPadding2D(padding)\n",
    "        self.conv = nn.Conv2d(\n",
    "            in_channels, out_channels, kernel_size=kernel_size, stride=stride, padding=0\n",
    "        )\n",
    "\n",
    "    def forward(self, inputs):\n",
    "        return self.conv(self.padding(inputs))\n",
    "\n",
    "class ResidualBlock(nn.Module):\n",
    "    def __init__(\n",
    "        self,\n",
    "        in_channels: int,\n",
    "        out_channels: int,\n",
    "        activation: str = \"leaky\",\n",
    "        norm: bool = False,\n",
    "        dropout: float = 0.1,\n",
    "        n_groups: int = 1,\n",
    "    ):\n",
    "        super().__init__()\n",
    "        if activation == \"gelu\":\n",
    "            self.activation = nn.GELU()\n",
    "        elif activation == \"relu\":\n",
    "            self.activation = nn.ReLU()\n",
    "        elif activation == \"silu\":\n",
    "            self.activation = nn.SiLU()\n",
    "        elif activation == \"leaky\":\n",
    "            self.activation = nn.LeakyReLU(0.3)\n",
    "        else:\n",
    "            raise NotImplementedError(f\"Activation {activation} not implemented\")\n",
    "\n",
    "        self.conv1 = PeriodicConv2D(in_channels, out_channels, kernel_size=3, padding=1)\n",
    "        self.conv2 = PeriodicConv2D(\n",
    "            out_channels, out_channels, kernel_size=3, padding=1\n",
    "        )\n",
    "        # If the number of input channels is not equal to the number of output channels we have to\n",
    "        # project the shortcut connection\n",
    "        if in_channels != out_channels:\n",
    "            self.shortcut = nn.Conv2d(in_channels, out_channels, kernel_size=(1, 1))\n",
    "        else:\n",
    "            self.shortcut = nn.Identity()\n",
    "\n",
    "        if norm:\n",
    "            self.norm1 = nn.BatchNorm2d(out_channels)\n",
    "            self.norm2 = nn.BatchNorm2d(out_channels)\n",
    "        else:\n",
    "            self.norm1 = nn.Identity()\n",
    "            self.norm2 = nn.Identity()\n",
    "\n",
    "        self.drop = nn.Dropout(dropout)\n",
    "\n",
    "    def forward(self, x: torch.Tensor):\n",
    "        # First convolution layer\n",
    "        # h = self.drop(self.conv1(self.activation(self.norm1(x))))\n",
    "        h = self.drop(self.norm1(self.activation(self.conv1(x))))\n",
    "        # Second convolution layer\n",
    "        # h = self.drop(self.conv2(self.activation(self.norm2(h))))\n",
    "        h = self.drop(self.norm2(self.activation(self.conv2(h))))\n",
    "        # Add the shortcut connection and return\n",
    "        return h + self.shortcut(x)"
   ]
  },
  {
   "cell_type": "code",
   "execution_count": 15,
   "metadata": {},
   "outputs": [],
   "source": [
    "in_channels = 3\n",
    "out_channels = 3\n",
    "history=1\n",
    "hidden_channels=128\n",
    "activation=\"leaky\"\n",
    "norm = True\n",
    "dropout= 0.1\n",
    "n_blocks= 4\n"
   ]
  },
  {
   "cell_type": "code",
   "execution_count": 28,
   "metadata": {},
   "outputs": [],
   "source": [
    "image_proj = PeriodicConv2D(\n",
    "    in_channels, hidden_channels, kernel_size=7, padding=3\n",
    ")\n",
    "blocks = nn.ModuleList(\n",
    "    [\n",
    "        ResidualBlock(\n",
    "            hidden_channels,\n",
    "            hidden_channels,\n",
    "            activation=activation,\n",
    "            norm=True,\n",
    "            dropout=dropout,\n",
    "        )\n",
    "        for _ in range(n_blocks)\n",
    "    ]\n",
    ")\n",
    "\n",
    "if norm:\n",
    "    norm = nn.BatchNorm2d(hidden_channels)\n",
    "else:\n",
    "    norm = nn.Identity()\n",
    "final = PeriodicConv2D(\n",
    "    hidden_channels, out_channels, kernel_size=7, padding=3\n",
    ")"
   ]
  },
  {
   "cell_type": "code",
   "execution_count": 20,
   "metadata": {},
   "outputs": [],
   "source": [
    "x = torch.randn(1, 3, 64, 64)"
   ]
  },
  {
   "cell_type": "code",
   "execution_count": 21,
   "metadata": {},
   "outputs": [],
   "source": [
    "if len(x.shape) == 5:  # x.shape = [B,T,C,H,W]\n",
    "    x = x.flatten(1, 2)\n"
   ]
  },
  {
   "cell_type": "code",
   "execution_count": 22,
   "metadata": {},
   "outputs": [],
   "source": [
    "x = image_proj(x)"
   ]
  },
  {
   "cell_type": "code",
   "execution_count": 23,
   "metadata": {},
   "outputs": [
    {
     "data": {
      "text/plain": [
       "torch.Size([1, 128, 64, 64])"
      ]
     },
     "execution_count": 23,
     "metadata": {},
     "output_type": "execute_result"
    }
   ],
   "source": [
    "x.shape"
   ]
  },
  {
   "cell_type": "code",
   "execution_count": 24,
   "metadata": {},
   "outputs": [
    {
     "name": "stdout",
     "output_type": "stream",
     "text": [
      "torch.Size([1, 128, 64, 64])\n",
      "torch.Size([1, 128, 64, 64])\n"
     ]
    }
   ],
   "source": [
    "for block in blocks:\n",
    "    x = block(x)\n",
    "    print(x.shape)"
   ]
  },
  {
   "cell_type": "code",
   "execution_count": 29,
   "metadata": {},
   "outputs": [],
   "source": [
    "yhat = final(nn.ReLU()(norm(x)))\n"
   ]
  },
  {
   "cell_type": "code",
   "execution_count": 31,
   "metadata": {},
   "outputs": [
    {
     "data": {
      "text/plain": [
       "torch.Size([1, 3, 64, 64])"
      ]
     },
     "execution_count": 31,
     "metadata": {},
     "output_type": "execute_result"
    }
   ],
   "source": [
    "yhat.shape"
   ]
  }
 ],
 "metadata": {
  "kernelspec": {
   "display_name": "bias_correction",
   "language": "python",
   "name": "python3"
  },
  "language_info": {
   "codemirror_mode": {
    "name": "ipython",
    "version": 3
   },
   "file_extension": ".py",
   "mimetype": "text/x-python",
   "name": "python",
   "nbconvert_exporter": "python",
   "pygments_lexer": "ipython3",
   "version": "3.11.8"
  }
 },
 "nbformat": 4,
 "nbformat_minor": 2
}
