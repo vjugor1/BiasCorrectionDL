{
 "cells": [
  {
   "cell_type": "code",
   "execution_count": 1,
   "metadata": {},
   "outputs": [],
   "source": [
    "import torch\n",
    "from torch import nn\n",
    "import torch.nn.functional as F\n",
    "from collections import OrderedDict\n",
    "import numpy as np\n",
    "import math"
   ]
  },
  {
   "cell_type": "code",
   "execution_count": 2,
   "metadata": {},
   "outputs": [],
   "source": [
    "input_channels=49\n",
    "output_channels=3\n",
    "num_layers=15\n",
    "num_features=64\n",
    "scale=2\n",
    "use_climatology=True,\n",
    "climatology_channels=output_channels+1\n",
    "relu = nn.ReLU(inplace=True)"
   ]
  },
  {
   "cell_type": "code",
   "execution_count": 49,
   "metadata": {},
   "outputs": [],
   "source": [
    "def _make_conv_layers():\n",
    "    layers = [\n",
    "        nn.Sequential(\n",
    "            nn.Conv2d(\n",
    "                input_channels,\n",
    "                num_features,\n",
    "                kernel_size=3,\n",
    "                stride=1,\n",
    "                padding=1,\n",
    "            ),\n",
    "            nn.ReLU(inplace=True),\n",
    "        )\n",
    "    ]\n",
    "    for _ in range(num_layers - 1):\n",
    "        layers.append(\n",
    "            nn.Sequential(\n",
    "                nn.Conv2d(\n",
    "                    num_features, num_features, kernel_size=3, padding=1\n",
    "                ),\n",
    "                nn.ReLU(inplace=True),\n",
    "            )\n",
    "        )\n",
    "    return nn.Sequential(*layers)\n",
    "\n",
    "def _make_deconv_layers():\n",
    "    layers = []\n",
    "    for _ in range(num_layers - 1):\n",
    "        layers.append(\n",
    "            nn.Sequential(\n",
    "                nn.ConvTranspose2d(\n",
    "                    num_features, num_features, kernel_size=3, padding=1\n",
    "                ),\n",
    "                nn.ReLU(inplace=True),\n",
    "                nn.Conv2d(\n",
    "                    num_features, num_features, kernel_size=3, padding=1\n",
    "                ),\n",
    "                nn.ReLU(inplace=True),\n",
    "            )\n",
    "        )\n",
    "    layers.append(\n",
    "        nn.Sequential(\n",
    "            nn.ConvTranspose2d(\n",
    "                num_features,\n",
    "                num_features,\n",
    "                kernel_size=3,\n",
    "                stride=1,\n",
    "                padding=1,\n",
    "                output_padding=0,\n",
    "            ),\n",
    "            nn.ReLU(inplace=True),\n",
    "            nn.Conv2d(\n",
    "                num_features,\n",
    "                input_channels,\n",
    "                kernel_size=3,\n",
    "                stride=1,\n",
    "                padding=1,\n",
    "            ),\n",
    "        )\n",
    "    )\n",
    "    return nn.Sequential(*layers)\n",
    "\n",
    "def _make_subpixel_conv_layer():\n",
    "    return nn.Sequential(\n",
    "        nn.Conv2d(\n",
    "            input_channels,\n",
    "            input_channels,\n",
    "            kernel_size=3,\n",
    "            stride=1,\n",
    "            padding=1,\n",
    "        ),\n",
    "        nn.ReLU(inplace=True),\n",
    "        upsample,\n",
    "        nn.Conv2d(\n",
    "            input_channels,\n",
    "            input_channels,\n",
    "            kernel_size=3,\n",
    "            stride=1,\n",
    "            padding=1,\n",
    "        ),\n",
    "        nn.ReLU(inplace=True),\n",
    "    )"
   ]
  },
  {
   "cell_type": "code",
   "execution_count": 50,
   "metadata": {},
   "outputs": [],
   "source": [
    "conv_layers = _make_conv_layers()\n",
    "deconv_layers = _make_deconv_layers()\n",
    "upsample = nn.Upsample(\n",
    "    scale_factor=scale, mode=\"bilinear\", align_corners=False\n",
    ")\n",
    "subpixel_conv_layer = _make_subpixel_conv_layer()\n",
    "\n",
    "\n",
    "if use_climatology:\n",
    "    fusion_layer = nn.Sequential(\n",
    "        nn.Conv2d(\n",
    "            2 * input_channels + climatology_channels,\n",
    "            num_features,\n",
    "            kernel_size=3,\n",
    "            stride=1,\n",
    "            padding=1,\n",
    "        ),\n",
    "        nn.ReLU(inplace=True),\n",
    "        nn.Conv2d(\n",
    "            num_features,\n",
    "            output_channels,\n",
    "            kernel_size=1,\n",
    "            stride=1,\n",
    "            padding=0,\n",
    "        ),\n",
    "    )"
   ]
  },
  {
   "cell_type": "code",
   "execution_count": 23,
   "metadata": {},
   "outputs": [],
   "source": [
    "x = torch.randn(64, 49, 32, 64)\n",
    "x_aux = torch.randn(64, 4, 64, 128)"
   ]
  },
  {
   "cell_type": "code",
   "execution_count": 26,
   "metadata": {},
   "outputs": [],
   "source": [
    "class SRCNN(nn.Module):\n",
    "    def __init__(self, in_channels, out_channels, num_features, scale_factor=2):\n",
    "        super(SRCNN, self).__init__()\n",
    "        self.conv1 = nn.Conv2d(in_channels, num_features, kernel_size=9, padding=4)\n",
    "        self.conv2 = nn.Conv2d(\n",
    "            num_features, num_features // 2, kernel_size=5, padding=2\n",
    "        )\n",
    "        self.conv3 = nn.Conv2d(\n",
    "            num_features // 2, out_channels, kernel_size=5, padding=2\n",
    "        )\n",
    "        self.relu = nn.ReLU()\n",
    "        self.upsample = nn.Upsample(scale_factor=scale_factor, mode='bilinear', align_corners=False)\n",
    "\n",
    "    def forward(self, x):\n",
    "        x = self.relu(self.conv1(x))\n",
    "        x = self.relu(self.conv2(x))\n",
    "        x = self.conv3(x)\n",
    "        x = self.upsample(x)\n",
    "        return x\n"
   ]
  },
  {
   "cell_type": "code",
   "execution_count": 27,
   "metadata": {},
   "outputs": [],
   "source": [
    "model = SRCNN(in_channels=49, out_channels=3, num_features=64)"
   ]
  },
  {
   "cell_type": "code",
   "execution_count": 28,
   "metadata": {},
   "outputs": [
    {
     "data": {
      "text/plain": [
       "torch.Size([64, 3, 64, 128])"
      ]
     },
     "execution_count": 28,
     "metadata": {},
     "output_type": "execute_result"
    }
   ],
   "source": [
    "model(x).shape"
   ]
  },
  {
   "cell_type": "code",
   "execution_count": 52,
   "metadata": {},
   "outputs": [],
   "source": [
    "residual = x\n",
    "residual_up = upsample(x)"
   ]
  },
  {
   "cell_type": "code",
   "execution_count": 53,
   "metadata": {},
   "outputs": [],
   "source": [
    "conv_feats = []\n",
    "for i in range(num_layers):\n",
    "    x = conv_layers[i](x)\n",
    "    if (i + 1) % 2 == 0 and len(conv_feats) < math.ceil(\n",
    "        num_layers / 2\n",
    "    ) - 1:\n",
    "        conv_feats.append(x)"
   ]
  },
  {
   "cell_type": "code",
   "execution_count": 54,
   "metadata": {},
   "outputs": [],
   "source": [
    "conv_feats_idx = 0\n",
    "for i in range(num_layers):\n",
    "    x = deconv_layers[i](x)\n",
    "    if (i + 1 + num_layers) % 2 == 0 and conv_feats_idx < len(conv_feats):\n",
    "        conv_feat = conv_feats[-(conv_feats_idx + 1)]\n",
    "        conv_feats_idx += 1\n",
    "        x = x + conv_feat\n",
    "        x = relu(x)"
   ]
  },
  {
   "cell_type": "code",
   "execution_count": 55,
   "metadata": {},
   "outputs": [],
   "source": [
    "x = x + residual\n",
    "x = relu(x)"
   ]
  },
  {
   "cell_type": "code",
   "execution_count": 56,
   "metadata": {},
   "outputs": [],
   "source": [
    "# Pass through subpixel convolution layer\n",
    "x = subpixel_conv_layer(x)"
   ]
  },
  {
   "cell_type": "code",
   "execution_count": 57,
   "metadata": {},
   "outputs": [],
   "source": [
    "# If use_climatology is True, apply the fusion layer with additional input (x_aux)\n",
    "if use_climatology and (x_aux is not None):\n",
    "    # Concatenate with upsampled input\n",
    "    x = torch.cat([x, residual_up], dim=1)\n",
    "    # Concatenate with aux data input\n",
    "    x = torch.cat([x, x_aux], dim=1)\n",
    "    # Pass through fusion layer\n",
    "    x = fusion_layer(x)  # [Nbatch,Nchannel,Nlat,Nlon]"
   ]
  },
  {
   "cell_type": "code",
   "execution_count": 58,
   "metadata": {},
   "outputs": [
    {
     "data": {
      "text/plain": [
       "torch.Size([64, 3, 64, 128])"
      ]
     },
     "execution_count": 58,
     "metadata": {},
     "output_type": "execute_result"
    }
   ],
   "source": [
    "x.shape"
   ]
  }
 ],
 "metadata": {
  "kernelspec": {
   "display_name": "bias_correction",
   "language": "python",
   "name": "python3"
  },
  "language_info": {
   "codemirror_mode": {
    "name": "ipython",
    "version": 3
   },
   "file_extension": ".py",
   "mimetype": "text/x-python",
   "name": "python",
   "nbconvert_exporter": "python",
   "pygments_lexer": "ipython3",
   "version": "3.11.8"
  }
 },
 "nbformat": 4,
 "nbformat_minor": 2
}
