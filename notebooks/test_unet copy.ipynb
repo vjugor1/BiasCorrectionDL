{
 "cells": [
  {
   "cell_type": "code",
   "execution_count": 1,
   "metadata": {},
   "outputs": [],
   "source": [
    "import torch\n",
    "from torch import nn\n",
    "import torch.nn.functional as F\n",
    "from collections import OrderedDict"
   ]
  },
  {
   "cell_type": "code",
   "execution_count": 2,
   "metadata": {},
   "outputs": [],
   "source": [
    "def sequential(*args):\n",
    "    \"\"\"Advanced nn.Sequential.\n",
    "\n",
    "    Args:\n",
    "        nn.Sequential, nn.Module\n",
    "\n",
    "    Returns:\n",
    "        nn.Sequential\n",
    "    \"\"\"\n",
    "    if len(args) == 1:\n",
    "        if isinstance(args[0], OrderedDict):\n",
    "            raise NotImplementedError('sequential does not support OrderedDict input.')\n",
    "        return args[0]  # No sequential is needed.\n",
    "    modules = []\n",
    "    for module in args:\n",
    "        if isinstance(module, nn.Sequential):\n",
    "            for submodule in module.children():\n",
    "                modules.append(submodule)\n",
    "        elif isinstance(module, nn.Module):\n",
    "            modules.append(module)\n",
    "    return nn.Sequential(*modules)\n",
    "\n",
    "def conv(in_channels=64, out_channels=64, kernel_size=3, stride=1, padding=1, bias=True, mode='CBR', negative_slope=0.2):\n",
    "    L = []\n",
    "    for t in mode:\n",
    "        if t == 'C':\n",
    "            L.append(nn.Conv2d(in_channels=in_channels, out_channels=out_channels, kernel_size=kernel_size, stride=stride, padding=padding, bias=bias))\n",
    "        elif t == 'T':\n",
    "            L.append(nn.ConvTranspose2d(in_channels=in_channels, out_channels=out_channels, kernel_size=kernel_size, stride=stride, padding=padding, bias=bias))\n",
    "        elif t == 'B':\n",
    "            L.append(nn.BatchNorm2d(out_channels, momentum=0.9, eps=1e-04, affine=True))\n",
    "        elif t == 'I':\n",
    "            L.append(nn.InstanceNorm2d(out_channels, affine=True))\n",
    "        elif t == 'R':\n",
    "            L.append(nn.ReLU(inplace=True))\n",
    "        elif t == 'r':\n",
    "            L.append(nn.ReLU(inplace=False))\n",
    "        elif t == 'L':\n",
    "            L.append(nn.LeakyReLU(negative_slope=negative_slope, inplace=True))\n",
    "        elif t == 'l':\n",
    "            L.append(nn.LeakyReLU(negative_slope=negative_slope, inplace=False))\n",
    "        elif t == '2':\n",
    "            L.append(nn.PixelShuffle(upscale_factor=2))\n",
    "        elif t == '3':\n",
    "            L.append(nn.PixelShuffle(upscale_factor=3))\n",
    "        elif t == '4':\n",
    "            L.append(nn.PixelShuffle(upscale_factor=4))\n",
    "        elif t == 'U':\n",
    "            L.append(nn.Upsample(scale_factor=2, mode='nearest'))\n",
    "        elif t == 'u':\n",
    "            L.append(nn.Upsample(scale_factor=3, mode='nearest'))\n",
    "        elif t == 'v':\n",
    "            L.append(nn.Upsample(scale_factor=4, mode='nearest'))\n",
    "        elif t == 'M':\n",
    "            L.append(nn.MaxPool2d(kernel_size=kernel_size, stride=stride, padding=0))\n",
    "        elif t == 'A':\n",
    "            L.append(nn.AvgPool2d(kernel_size=kernel_size, stride=stride, padding=0))\n",
    "        else:\n",
    "            raise NotImplementedError('Undefined type: '.format(t))\n",
    "    return sequential(*L)\n",
    "\n",
    "def downsample_strideconv(in_channels=64, out_channels=64, kernel_size=2, stride=2, padding=0, bias=True, mode='2R', negative_slope=0.2):\n",
    "    assert len(mode)<4 and mode[0] in ['2', '3', '4'], 'mode examples: 2, 2R, 2BR, 3, ..., 4BR.'\n",
    "    kernel_size = int(mode[0])\n",
    "    stride = int(mode[0])\n",
    "    mode = mode.replace(mode[0], 'C')\n",
    "    down1 = conv(in_channels, out_channels, kernel_size, stride, padding, bias, mode, negative_slope)\n",
    "    return down1\n",
    "\n",
    "\n",
    "# --------------------------------------------\n",
    "# maxpooling + conv (+ relu)\n",
    "# --------------------------------------------\n",
    "def downsample_maxpool(in_channels=64, out_channels=64, kernel_size=3, stride=1, padding=0, bias=True, mode='2R', negative_slope=0.2):\n",
    "    assert len(mode)<4 and mode[0] in ['2', '3'], 'mode examples: 2, 2R, 2BR, 3, ..., 3BR.'\n",
    "    kernel_size_pool = int(mode[0])\n",
    "    stride_pool = int(mode[0])\n",
    "    mode = mode.replace(mode[0], 'MC')\n",
    "    pool = conv(kernel_size=kernel_size_pool, stride=stride_pool, mode=mode[0], negative_slope=negative_slope)\n",
    "    pool_tail = conv(in_channels, out_channels, kernel_size, stride, padding, bias, mode=mode[1:], negative_slope=negative_slope)\n",
    "    return sequential(pool, pool_tail)\n",
    "\n",
    "\n",
    "# --------------------------------------------\n",
    "# averagepooling + conv (+ relu)\n",
    "# --------------------------------------------\n",
    "def downsample_avgpool(in_channels=64, out_channels=64, kernel_size=3, stride=1, padding=1, bias=True, mode='2R', negative_slope=0.2):\n",
    "    assert len(mode)<4 and mode[0] in ['2', '3'], 'mode examples: 2, 2R, 2BR, 3, ..., 3BR.'\n",
    "    kernel_size_pool = int(mode[0])\n",
    "    stride_pool = int(mode[0])\n",
    "    mode = mode.replace(mode[0], 'AC')\n",
    "    pool = conv(kernel_size=kernel_size_pool, stride=stride_pool, mode=mode[0], negative_slope=negative_slope)\n",
    "    pool_tail = conv(in_channels, out_channels, kernel_size, stride, padding, bias, mode=mode[1:], negative_slope=negative_slope)\n",
    "    return sequential(pool, pool_tail)\n",
    "\n",
    "class ResBlock(nn.Module):\n",
    "    def __init__(self, in_channels=64, out_channels=64, kernel_size=3, stride=1, padding=1, bias=True, mode='CRC', negative_slope=0.2):\n",
    "        super(ResBlock, self).__init__()\n",
    "\n",
    "        assert in_channels == out_channels, 'Only support in_channels==out_channels.'\n",
    "        if mode[0] in ['R', 'L']:\n",
    "            mode = mode[0].lower() + mode[1:]\n",
    "\n",
    "        self.res = conv(in_channels, out_channels, kernel_size, stride, padding, bias, mode, negative_slope)\n",
    "\n",
    "    def forward(self, x):\n",
    "        res = self.res(x)\n",
    "        return x + res\n",
    "    \n",
    "def upsample_pixelshuffle(in_channels=64, out_channels=3, kernel_size=3, stride=1, padding=1, bias=True, mode='2R', negative_slope=0.2):\n",
    "    assert len(mode)<4 and mode[0] in ['2', '3', '4'], 'mode examples: 2, 2R, 2BR, 3, ..., 4BR.'\n",
    "    up1 = conv(in_channels, out_channels * (int(mode[0]) ** 2), kernel_size, stride, padding, bias, mode='C'+mode, negative_slope=negative_slope)\n",
    "    return up1\n",
    "\n",
    "\n",
    "# --------------------------------------------\n",
    "# nearest_upsample + conv (+ R)\n",
    "# --------------------------------------------\n",
    "def upsample_upconv(in_channels=64, out_channels=3, kernel_size=3, stride=1, padding=1, bias=True, mode='2R', negative_slope=0.2):\n",
    "    assert len(mode)<4 and mode[0] in ['2', '3', '4'], 'mode examples: 2, 2R, 2BR, 3, ..., 4BR'\n",
    "    if mode[0] == '2':\n",
    "        uc = 'UC'\n",
    "    elif mode[0] == '3':\n",
    "        uc = 'uC'\n",
    "    elif mode[0] == '4':\n",
    "        uc = 'vC'\n",
    "    mode = mode.replace(mode[0], uc)\n",
    "    up1 = conv(in_channels, out_channels, kernel_size, stride, padding, bias, mode=mode, negative_slope=negative_slope)\n",
    "    return up1\n",
    "\n",
    "\n",
    "# --------------------------------------------\n",
    "# convTranspose (+ relu)\n",
    "# --------------------------------------------\n",
    "def upsample_convtranspose(in_channels=64, out_channels=3, kernel_size=2, stride=2, padding=0, bias=True, mode='2R', negative_slope=0.2):\n",
    "    assert len(mode)<4 and mode[0] in ['2', '3', '4'], 'mode examples: 2, 2R, 2BR, 3, ..., 4BR.'\n",
    "    kernel_size = int(mode[0])\n",
    "    stride = int(mode[0])\n",
    "    mode = mode.replace(mode[0], 'T')\n",
    "    up1 = conv(in_channels, out_channels, kernel_size, stride, padding, bias, mode, negative_slope)\n",
    "    return up1"
   ]
  },
  {
   "cell_type": "code",
   "execution_count": 3,
   "metadata": {},
   "outputs": [],
   "source": [
    "in_nc=3 \n",
    "out_nc=3\n",
    "nc=[64, 128, 256, 512]\n",
    "nb=4\n",
    "act_mode='R'\n",
    "downsample_mode='strideconv'\n",
    "upsample_mode='convtranspose' \n",
    "bias=True"
   ]
  },
  {
   "cell_type": "code",
   "execution_count": 4,
   "metadata": {},
   "outputs": [],
   "source": [
    "m_head = conv(in_nc, nc[0], bias=bias, mode='C')\n",
    "\n",
    "# downsample\n",
    "if downsample_mode == 'avgpool':\n",
    "    downsample_block = downsample_avgpool\n",
    "elif downsample_mode == 'maxpool':\n",
    "    downsample_block = downsample_maxpool\n",
    "elif downsample_mode == 'strideconv':\n",
    "    downsample_block = downsample_strideconv\n",
    "else:\n",
    "    raise NotImplementedError('downsample mode [{:s}] is not found'.format(downsample_mode))\n",
    "\n",
    "m_down1 = sequential(*[ResBlock(nc[0], nc[0], bias=bias, mode='C'+act_mode+'C') for _ in range(nb)], downsample_block(nc[0], nc[1], bias=bias, mode='2'))\n",
    "m_down2 = sequential(*[ResBlock(nc[1], nc[1], bias=bias, mode='C'+act_mode+'C') for _ in range(nb)], downsample_block(nc[1], nc[2], bias=bias, mode='2'))\n",
    "m_down3 = sequential(*[ResBlock(nc[2], nc[2], bias=bias, mode='C'+act_mode+'C') for _ in range(nb)], downsample_block(nc[2], nc[3], bias=bias, mode='2'))\n",
    "\n",
    "m_body  = sequential(*[ResBlock(nc[3], nc[3], bias=bias, mode='C'+act_mode+'C') for _ in range(nb)])\n",
    "\n",
    "# upsample\n",
    "if upsample_mode == 'upconv':\n",
    "    upsample_block = upsample_upconv\n",
    "elif upsample_mode == 'pixelshuffle':\n",
    "    upsample_block = upsample_pixelshuffle\n",
    "elif upsample_mode == 'convtranspose':\n",
    "    upsample_block = upsample_convtranspose\n",
    "else:\n",
    "    raise NotImplementedError('upsample mode [{:s}] is not found'.format(upsample_mode))\n",
    "\n",
    "m_up3 = sequential(upsample_block(nc[3], nc[2], bias=bias, mode='2'), *[ResBlock(nc[2], nc[2], bias=bias, mode='C'+act_mode+'C') for _ in range(nb)])\n",
    "m_up2 = sequential(upsample_block(nc[2], nc[1], bias=bias, mode='2'), *[ResBlock(nc[1], nc[1], bias=bias, mode='C'+act_mode+'C') for _ in range(nb)])\n",
    "m_up1 = sequential(upsample_block(nc[1], nc[0], bias=bias, mode='2'), *[ResBlock(nc[0], nc[0], bias=bias, mode='C'+act_mode+'C') for _ in range(nb)])\n",
    "\n",
    "m_tail = conv(nc[0], out_nc, bias=bias, mode='C')"
   ]
  },
  {
   "cell_type": "code",
   "execution_count": 24,
   "metadata": {},
   "outputs": [
    {
     "data": {
      "text/plain": [
       "Sequential(\n",
       "  (0): ResBlock(\n",
       "    (res): Sequential(\n",
       "      (0): Conv2d(64, 64, kernel_size=(3, 3), stride=(1, 1), padding=(1, 1))\n",
       "      (1): ReLU(inplace=True)\n",
       "      (2): Conv2d(64, 64, kernel_size=(3, 3), stride=(1, 1), padding=(1, 1))\n",
       "    )\n",
       "  )\n",
       "  (1): ResBlock(\n",
       "    (res): Sequential(\n",
       "      (0): Conv2d(64, 64, kernel_size=(3, 3), stride=(1, 1), padding=(1, 1))\n",
       "      (1): ReLU(inplace=True)\n",
       "      (2): Conv2d(64, 64, kernel_size=(3, 3), stride=(1, 1), padding=(1, 1))\n",
       "    )\n",
       "  )\n",
       "  (2): ResBlock(\n",
       "    (res): Sequential(\n",
       "      (0): Conv2d(64, 64, kernel_size=(3, 3), stride=(1, 1), padding=(1, 1))\n",
       "      (1): ReLU(inplace=True)\n",
       "      (2): Conv2d(64, 64, kernel_size=(3, 3), stride=(1, 1), padding=(1, 1))\n",
       "    )\n",
       "  )\n",
       "  (3): ResBlock(\n",
       "    (res): Sequential(\n",
       "      (0): Conv2d(64, 64, kernel_size=(3, 3), stride=(1, 1), padding=(1, 1))\n",
       "      (1): ReLU(inplace=True)\n",
       "      (2): Conv2d(64, 64, kernel_size=(3, 3), stride=(1, 1), padding=(1, 1))\n",
       "    )\n",
       "  )\n",
       "  (4): Conv2d(64, 128, kernel_size=(2, 2), stride=(2, 2))\n",
       ")"
      ]
     },
     "execution_count": 24,
     "metadata": {},
     "output_type": "execute_result"
    }
   ],
   "source": [
    "m_down1"
   ]
  },
  {
   "cell_type": "code",
   "execution_count": 5,
   "metadata": {},
   "outputs": [],
   "source": [
    "x0 = torch.randn(1, 3, 64, 64)"
   ]
  },
  {
   "cell_type": "code",
   "execution_count": 6,
   "metadata": {},
   "outputs": [
    {
     "data": {
      "text/plain": [
       "torch.Size([1, 64, 64, 64])"
      ]
     },
     "execution_count": 6,
     "metadata": {},
     "output_type": "execute_result"
    }
   ],
   "source": [
    "x1 = m_head(x0)\n",
    "x1.shape"
   ]
  },
  {
   "cell_type": "code",
   "execution_count": 7,
   "metadata": {},
   "outputs": [
    {
     "data": {
      "text/plain": [
       "torch.Size([1, 128, 32, 32])"
      ]
     },
     "execution_count": 7,
     "metadata": {},
     "output_type": "execute_result"
    }
   ],
   "source": [
    "x2 = m_down1(x1)\n",
    "x2.shape"
   ]
  },
  {
   "cell_type": "code",
   "execution_count": 8,
   "metadata": {},
   "outputs": [
    {
     "data": {
      "text/plain": [
       "torch.Size([1, 256, 16, 16])"
      ]
     },
     "execution_count": 8,
     "metadata": {},
     "output_type": "execute_result"
    }
   ],
   "source": [
    "x3 = m_down2(x2)\n",
    "x3.shape"
   ]
  },
  {
   "cell_type": "code",
   "execution_count": 9,
   "metadata": {},
   "outputs": [
    {
     "data": {
      "text/plain": [
       "torch.Size([1, 512, 8, 8])"
      ]
     },
     "execution_count": 9,
     "metadata": {},
     "output_type": "execute_result"
    }
   ],
   "source": [
    "x4 = m_down3(x3)\n",
    "x4.shape"
   ]
  },
  {
   "cell_type": "code",
   "execution_count": 10,
   "metadata": {},
   "outputs": [
    {
     "data": {
      "text/plain": [
       "torch.Size([1, 512, 8, 8])"
      ]
     },
     "execution_count": 10,
     "metadata": {},
     "output_type": "execute_result"
    }
   ],
   "source": [
    "x = m_body(x4)\n",
    "x.shape"
   ]
  },
  {
   "cell_type": "code",
   "execution_count": 11,
   "metadata": {},
   "outputs": [
    {
     "data": {
      "text/plain": [
       "torch.Size([1, 256, 16, 16])"
      ]
     },
     "execution_count": 11,
     "metadata": {},
     "output_type": "execute_result"
    }
   ],
   "source": [
    "x = m_up3(x+x4)\n",
    "x.shape"
   ]
  },
  {
   "cell_type": "code",
   "execution_count": 12,
   "metadata": {},
   "outputs": [
    {
     "data": {
      "text/plain": [
       "torch.Size([1, 128, 32, 32])"
      ]
     },
     "execution_count": 12,
     "metadata": {},
     "output_type": "execute_result"
    }
   ],
   "source": [
    "x = m_up2(x+x3)\n",
    "x.shape"
   ]
  },
  {
   "cell_type": "code",
   "execution_count": 13,
   "metadata": {},
   "outputs": [
    {
     "data": {
      "text/plain": [
       "torch.Size([1, 64, 64, 64])"
      ]
     },
     "execution_count": 13,
     "metadata": {},
     "output_type": "execute_result"
    }
   ],
   "source": [
    "x = m_up1(x+x2)\n",
    "x.shape"
   ]
  },
  {
   "cell_type": "code",
   "execution_count": 14,
   "metadata": {},
   "outputs": [
    {
     "data": {
      "text/plain": [
       "torch.Size([1, 3, 64, 64])"
      ]
     },
     "execution_count": 14,
     "metadata": {},
     "output_type": "execute_result"
    }
   ],
   "source": [
    "x = m_tail(x+x1)\n",
    "x.shape"
   ]
  }
 ],
 "metadata": {
  "kernelspec": {
   "display_name": "bias_correction",
   "language": "python",
   "name": "python3"
  },
  "language_info": {
   "codemirror_mode": {
    "name": "ipython",
    "version": 3
   },
   "file_extension": ".py",
   "mimetype": "text/x-python",
   "name": "python",
   "nbconvert_exporter": "python",
   "pygments_lexer": "ipython3",
   "version": "3.11.8"
  }
 },
 "nbformat": 4,
 "nbformat_minor": 2
}
