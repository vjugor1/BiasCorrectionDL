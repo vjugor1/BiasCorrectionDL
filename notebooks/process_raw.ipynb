{
  "cells": [
    {
      "cell_type": "code",
      "execution_count": 1,
      "metadata": {
        "id": "z-R_gkMGjkFJ"
      },
      "outputs": [],
      "source": [
        "import sys\n",
        "sys.path.append('/app')\n",
        "\n",
        "from src.climate_learn import convert_nc2npz, IterDataModule\n",
        "from src.climate_learn.utils import load_downscaling_module\n",
        "import numpy as np\n",
        "import os\n",
        "import glob\n",
        "\n",
        "from IPython.display import HTML\n",
        "import pytorch_lightning as pl\n",
        "from pytorch_lightning.callbacks import (\n",
        "    EarlyStopping,\n",
        "    ModelCheckpoint,\n",
        "    RichModelSummary,\n",
        "    RichProgressBar\n",
        ")\n",
        "from pytorch_lightning.loggers.tensorboard import TensorBoardLogger"
      ]
    },
    {
      "attachments": {},
      "cell_type": "markdown",
      "metadata": {
        "id": "Kb_VffKBwUy8"
      },
      "source": [
        "The following function call processes the WeatherBench ERA5 data into a form that is easily ingestable for PyTorch models and defines the training-validation-testing splits. In addition, we shard the data to create sets of smaller files rather than one large file for each split."
      ]
    },
    {
      "cell_type": "markdown",
      "metadata": {},
      "source": [
        "### CMIP_ERA task"
      ]
    },
    {
      "cell_type": "code",
      "execution_count": 3,
      "metadata": {
        "colab": {
          "base_uri": "https://localhost:8080/"
        },
        "id": "LHQnPpBclliL",
        "outputId": "ff7be932-2ae7-44e3-a136-f15b116c5fe8"
      },
      "outputs": [
        {
          "name": "stderr",
          "output_type": "stream",
          "text": [
            "100%|██████████| 1/1 [01:45<00:00, 105.81s/it]\n",
            "100%|██████████| 2/2 [03:02<00:00, 91.36s/it]\n",
            "100%|██████████| 2/2 [02:59<00:00, 89.88s/it]\n"
          ]
        }
      ],
      "source": [
        "# ERA WeatherBench for CMIP_ERA task\n",
        "convert_nc2npz(\n",
        "    root_dir=\"/app/data/raw/cmip6-era5/era5_0.25/D/\",\n",
        "    save_dir=\"/app/data/processed/cmip6-era5/era5_0.25/D\",\n",
        "    src=\"era5\",\n",
        "    variables=[\n",
        "               \"2m_temperature\",\n",
        "               \"10m_u_component_of_wind\",\n",
        "               \"10m_v_component_of_wind\",\n",
        "            #    \"surface_pressure\",  # exclude for \"D\" frequency\n",
        "               \"total_precipitation\"\n",
        "               ],\n",
        "    start_train_year=1960,\n",
        "    start_val_year=2011,\n",
        "    start_test_year=2013,\n",
        "    end_year=2015,\n",
        "    num_shards=5, # set 5 for \"D\" and 20 for \"3H\"\n",
        "    frequency=\"D\", # H | 3H | D\n",
        "    align_target = None\n",
        ")"
      ]
    },
    {
      "cell_type": "code",
      "execution_count": 2,
      "metadata": {},
      "outputs": [
        {
          "name": "stderr",
          "output_type": "stream",
          "text": [
            "100%|██████████| 51/51 [17:35<00:00, 20.70s/it]\n",
            "100%|██████████| 2/2 [00:33<00:00, 16.96s/it]\n",
            "100%|██████████| 2/2 [00:36<00:00, 18.23s/it]\n"
          ]
        }
      ],
      "source": [
        "# CMIP data for CMIP_ERA task\n",
        "convert_nc2npz(\n",
        "    root_dir=\"/app/data/raw/cmip6-era5/cmip6/D\",\n",
        "    save_dir=\"/app/data/processed/cmip6-era5/cmip6/D\",\n",
        "    src=\"cmip6\",\n",
        "    variables=[\n",
        "                \"air_temperature\",\n",
        "                \"u_component_of_wind\",\n",
        "                \"v_component_of_wind\",\n",
        "                \"pressure_sea_level\", # \"surface_pressure\" for 3H | \"pressure_sea_level\" for \"D\"\n",
        "                \"precipitation\",\n",
        "                \"specific_humidity\",\n",
        "                \"cloud_cover\",\n",
        "                \"upward_heat_flux\",\n",
        "                \"moisture_in_soil\"\n",
        "               ],\n",
        "    start_train_year=1960,\n",
        "    start_val_year=2011,\n",
        "    start_test_year=2013,\n",
        "    end_year=2015,\n",
        "    num_shards=5,  # set 5 for \"D\" and 20 for \"3H\"\n",
        "    frequency=\"D\", # H | 3H | D\n",
        "    align_target = \"/app/data/raw/cmip6-era5/era5_0.25/D\",\n",
        "    scale_factor=4,\n",
        ")"
      ]
    },
    {
      "cell_type": "markdown",
      "metadata": {},
      "source": [
        "### ERA_EOBS task"
      ]
    },
    {
      "cell_type": "code",
      "execution_count": 7,
      "metadata": {},
      "outputs": [
        {
          "name": "stderr",
          "output_type": "stream",
          "text": [
            "100%|██████████| 58/58 [47:28<00:00, 49.11s/it] \n",
            "100%|██████████| 2/2 [00:22<00:00, 11.30s/it]\n",
            "100%|██████████| 2/2 [00:22<00:00, 11.07s/it]\n"
          ]
        }
      ],
      "source": [
        "# #ERA data for ERA-EOBS task\n",
        "convert_nc2npz(\n",
        "    root_dir=\"/app/data/raw/era5-eobs/era5_0.25_D/\",\n",
        "    save_dir=\"/app/data/processed/era5-eobs/era5_0.25_D/\",\n",
        "    src=\"era5\",\n",
        "    variables=[\n",
        "            \"2m_temperature\",\n",
        "            \"maximum_temperature\",\n",
        "            \"minimum_temperature\",\n",
        "         #    \"surface_pressure\",  # exclude for \"D\" frequency\n",
        "            \"rainfall\"\n",
        "               ],\n",
        "    start_train_year=1960,\n",
        "    start_val_year=2018,\n",
        "    start_test_year=2020,\n",
        "    end_year=2022,\n",
        "    num_shards=5,\n",
        "    frequency=\"D\",\n",
        "    align_target = None,\n",
        "    periodic=False # whether data cover all the globe\n",
        ")"
      ]
    },
    {
      "cell_type": "code",
      "execution_count": 5,
      "metadata": {},
      "outputs": [
        {
          "name": "stderr",
          "output_type": "stream",
          "text": [
            "100%|██████████| 58/58 [1:09:28<00:00, 71.86s/it]\n",
            "100%|██████████| 2/2 [01:24<00:00, 42.31s/it]\n",
            "100%|██████████| 2/2 [01:42<00:00, 51.28s/it]\n"
          ]
        }
      ],
      "source": [
        "# EOBS data for ERA-EOBS task\n",
        "convert_nc2npz(\n",
        "    root_dir=\"/app/data/raw/era5-eobs/e-obs/ensemble_mean/010_grid/1950-2023/\",\n",
        "    save_dir=\"/app/data/processed/era5-eobs/e-obs/ensemble_mean/0125_grid/\",\n",
        "    src=\"eobs\",\n",
        "    variables=[\n",
        "                \"mean_temperature\",\n",
        "                \"minimum_temperature\",\n",
        "                \"maximum_temperature\",\n",
        "                \"precipitation_sum\",\n",
        "                \"sea_level_pressure_avg\",\n",
        "                \"relative_humidity_avg\",\n",
        "                \"global_radiation_mean\",\n",
        "               ],\n",
        "    start_train_year=1960,\n",
        "    start_val_year=2018,\n",
        "    start_test_year=2020,\n",
        "    end_year=2022,\n",
        "    num_shards=5, # set 5 for \"D\" and 20 for \"3H\"\n",
        "    frequency=\"D\",\n",
        "    align_target = \"/app/data/raw/era5-eobs/era5_0.25_D\",\n",
        "    scale_factor=0.5,\n",
        "    periodic=False # whether data cover all the globe\n",
        ")"
      ]
    },
    {
      "cell_type": "code",
      "execution_count": 6,
      "metadata": {},
      "outputs": [],
      "source": [
        "# Create mask for E-OBS dataset to exclude NaNs\n",
        "src_dir='/app/data/processed/era5-eobs/e-obs/ensemble_mean/0125_grid/'\n",
        "\n",
        "for folder in [\"train\", \"test\", \"val\"]:\n",
        "    inp_file_list = sorted(\n",
        "            glob.glob(os.path.join(src_dir, folder, \"*.npz\"))\n",
        "        )\n",
        "    inp_file_list = [f for f in inp_file_list if \"climatology\" not in f]\n",
        "    n_files = len(inp_file_list)\n",
        "    for idx in range(n_files):\n",
        "        inp = np.load(inp_file_list[idx])\n",
        "        for k in [\"tg\", \"tx\", \"tn\", \"rr\"]:\n",
        "            mask = ~np.isnan(inp[k]).any(axis=0)*1\n",
        "            try:\n",
        "                mask_global = (mask_global == 1) & (mask == 1)\n",
        "            except NameError:\n",
        "                mask_global = mask == 1\n",
        "            # print(np.sum(mask_global))\n",
        "\n",
        "# Save mask\n",
        "np.save(os.path.join(src_dir, \"mask.npy\"), mask_global)"
      ]
    },
    {
      "cell_type": "markdown",
      "metadata": {},
      "source": [
        "### CMIP-CMIP task"
      ]
    },
    {
      "cell_type": "code",
      "execution_count": 2,
      "metadata": {},
      "outputs": [
        {
          "name": "stderr",
          "output_type": "stream",
          "text": [
            "100%|██████████| 51/51 [20:59<00:00, 24.70s/it]\n",
            "100%|██████████| 2/2 [00:45<00:00, 22.83s/it]\n",
            "100%|██████████| 2/2 [00:46<00:00, 23.22s/it]\n"
          ]
        }
      ],
      "source": [
        "# CMIP HR\n",
        "convert_nc2npz(\n",
        "    root_dir=\"/app/data/raw/cmip6-cmip6/HR\",\n",
        "    save_dir=\"/app/data/processed/cmip6-cmip6/HR\",\n",
        "    src=\"cmip6\",\n",
        "    variables=[\n",
        "                \"air_temperature\",\n",
        "                \"u_component_of_wind\",\n",
        "                \"v_component_of_wind\",\n",
        "                \"pressure_sea_level\", # \"surface_pressure\" for 3H | \"pressure_sea_level\" for \"D\"\n",
        "                \"precipitation\",\n",
        "                \"specific_humidity\",\n",
        "                \"cloud_cover\",\n",
        "                \"upward_heat_flux\",\n",
        "                \"moisture_in_soil\"\n",
        "               ],\n",
        "    start_train_year=1960,\n",
        "    start_val_year=2011,\n",
        "    start_test_year=2013,\n",
        "    end_year=2015,\n",
        "    num_shards=5,  # set 5 for \"D\" and 20 for \"3H\"\n",
        "    frequency=\"D\", # H | 3H | D\n",
        "    align_target = None\n",
        ")"
      ]
    },
    {
      "cell_type": "code",
      "execution_count": 2,
      "metadata": {},
      "outputs": [
        {
          "name": "stderr",
          "output_type": "stream",
          "text": [
            "100%|██████████| 51/51 [07:51<00:00,  9.25s/it]\n",
            "100%|██████████| 2/2 [00:16<00:00,  8.18s/it]\n",
            "100%|██████████| 2/2 [00:16<00:00,  8.27s/it]\n"
          ]
        }
      ],
      "source": [
        "# CMIP LR\n",
        "convert_nc2npz(\n",
        "    root_dir=\"/app/data/raw/cmip6-cmip6/LR\",\n",
        "    save_dir=\"/app/data/processed/cmip6-cmip6/LR\",\n",
        "    src=\"cmip6\",\n",
        "    variables=[\n",
        "                \"air_temperature\",\n",
        "                \"u_component_of_wind\",\n",
        "                \"v_component_of_wind\",\n",
        "                \"pressure_sea_level\", # \"surface_pressure\" for 3H | \"pressure_sea_level\" for \"D\"\n",
        "                \"precipitation\",\n",
        "                \"specific_humidity\",\n",
        "                \"cloud_cover\",\n",
        "                \"upward_heat_flux\",\n",
        "                \"moisture_in_soil\"\n",
        "               ],\n",
        "    start_train_year=1960,\n",
        "    start_val_year=2011,\n",
        "    start_test_year=2013,\n",
        "    end_year=2015,\n",
        "    num_shards=5,  # set 5 for \"D\" and 20 for \"3H\"\n",
        "    frequency=\"D\", # H | 3H | D\n",
        "    align_target = \"/app/data/raw/cmip6-cmip6/HR\",\n",
        "    scale_factor=2\n",
        ")"
      ]
    },
    {
      "attachments": {},
      "cell_type": "markdown",
      "metadata": {
        "id": "83FYCcuaxKE-"
      },
      "source": [
        "The downloaded and processed data is loaded into a PyTorch Lightning data module. In the following code cell, we use the following settings:\n",
        "- `subsample = 6`. The dataset is subsampled at 6 hour intervals; this is done so that training is faster, but one could also use no subsampling (_i.e._, `subsample = 1`, which is the default).\n",
        "- `pred_range = 24`. The model's objective is to predict `2m_temperature` 24 hours in the future.\n",
        "- `history = 3`. When making a prediction, the model is given data at time `t`, `t-subsample`, and `t-subsample*2`.\n",
        "- `task = \"direct-forecasting\"`. Given the inputs, the model directly predicts the outputs at `pred_range`. Other methods of forecasting are iterative forecasting and continuous forecasting. We refer to section 3 of [this paper by Rasp and Theurey](https://arxiv.org/pdf/2008.08626.pdf) for a description of these forecasting types.\n",
        "\n",
        "Note further that `in_vars` and `out_vars` are the same, meaning the model consumes historical temperature and geopotential as input and produces predicted temperature and geopotential as output.\n",
        "\n",
        "Before running this next code cell, we recommend switching to a GPU-accelerated runtime then re-running all code cells related to installation and library imports. You do _NOT_ need to re-download/process the data. Those should be saved to your Google Drive."
      ]
    },
    {
      "cell_type": "markdown",
      "metadata": {},
      "source": [
        "##### Cmip to Cmip downscaling gives MSE=0 and pearson=1 roughly"
      ]
    },
    {
      "cell_type": "code",
      "execution_count": null,
      "metadata": {},
      "outputs": [],
      "source": [
        "dm_cmip = IterDataModule(\n",
        "    task=\"downscaling\",\n",
        "    inp_root_dir=\"/app/data/processed/cmip6/3H\",\n",
        "    out_root_dir=\"/app/data/processed/cmip6/3H\",\n",
        "    in_vars=[\"air_temperature\", \"u_component_of_wind\", \"v_component_of_wind\"],\n",
        "    out_vars=[\"air_temperature\", \"u_component_of_wind\", \"v_component_of_wind\"],\n",
        "    src=\"cmip6\",\n",
        "    subsample=6,\n",
        "    pred_range=24,\n",
        "    history=3,\n",
        "    batch_size=256\n",
        ")\n",
        "dm_cmip.setup()"
      ]
    },
    {
      "cell_type": "code",
      "execution_count": null,
      "metadata": {
        "colab": {
          "base_uri": "https://localhost:8080/",
          "height": 1000,
          "referenced_widgets": [
            "46913ebf2920448ab7e4421fff41e7bd",
            "a83b8bb369174edf999ad804cb1a9c4f",
            "2f97f73cab694612bb3151797ab85d50",
            "ce082e1180e546d0a45676e112673f02",
            "96cf4617cf7f44929754d7f5390ecde9",
            "339c3a61ba8f47d89cdb437baea61056",
            "513a2a318bbe4c448835337736ebe9d5",
            "6c4afba98d934616b3fd5f277140db49",
            "7c956ab21a9e43dd88cb28247622cd3f",
            "1da5c642bf634cb5b35ccba3619ff4c9",
            "e5be2704139e488392222b0e68453d58",
            "97668a06aa65408bb09f8c85e67dfd1c",
            "4f9ecc20290a4adb9be40faa1b44a056",
            "5e0fa8d1d3f444d288dba5f75a078f63",
            "64da7f47dc7f404bbedee37a18b3d4ed",
            "16e44229fb724c3f85bc0b6f7dd86c45",
            "13abcd9a2e724e059e6d4c538ffe889a",
            "ac0fc5f828644428927b4df101958b9b",
            "f1f44758bf1742909f3d207875d25007",
            "ab5a4140314e4d4ca64b6a34050572d4",
            "c438da1a4c064403a237be437a105583",
            "eeb7d4a7fd2f491b9d150709f85d344f"
          ]
        },
        "id": "PsOEY44RklR6",
        "outputId": "ba3a1f3d-7850-4a4e-c4bf-9ec377e50f5a"
      },
      "outputs": [],
      "source": [
        "interpolation = load_downscaling_module(\n",
        "    data_module=dm_cmip,\n",
        "    architecture=\"bilinear-interpolation\" #nearest-interpolation\n",
        ")\n",
        "\n",
        "trainer = pl.Trainer()\n",
        "trainer.test(interpolation, dm_cmip)"
      ]
    },
    {
      "cell_type": "markdown",
      "metadata": {},
      "source": [
        "##### Cmip to era downscaling. Baseline"
      ]
    },
    {
      "cell_type": "code",
      "execution_count": null,
      "metadata": {
        "id": "HZ_9mMR4kA49"
      },
      "outputs": [],
      "source": [
        "dm_cmip_era = IterDataModule(\n",
        "    task=\"downscaling\",\n",
        "    inp_root_dir=\"/app/data/processed/cmip6/3H\",\n",
        "    out_root_dir=\"/app/data/processed/era5_0.25deg/3H\",\n",
        "    in_vars=[\"air_temperature\", \"u_component_of_wind\", \"v_component_of_wind\", \"surface_pressure\"],\n",
        "    out_vars=[\"2m_temperature\", \"10m_u_component_of_wind\", \"10m_v_component_of_wind\", \"surface_pressure\"],\n",
        "    batch_size=256\n",
        ")\n",
        "dm_cmip_era.setup()"
      ]
    },
    {
      "cell_type": "code",
      "execution_count": null,
      "metadata": {},
      "outputs": [
        {
          "name": "stdout",
          "output_type": "stream",
          "text": [
            "Loading architecture: nearest-interpolation\n",
            "Using optimizer associated with architecture\n",
            "Using learning rate scheduler associated with architecture\n",
            "Loading training loss: mse\n",
            "No train transform\n",
            "Loading validation loss: rmse\n",
            "Loading validation loss: pearson\n",
            "Loading validation loss: mean_bias\n",
            "Loading validation loss: mse\n",
            "Loading validation transform: denormalize\n",
            "Loading validation transform: denormalize\n",
            "Loading validation transform: denormalize\n",
            "No validation transform\n",
            "Loading test loss: rmse\n",
            "Loading test loss: pearson\n",
            "Loading test loss: mean_bias\n",
            "Loading test loss: mse\n",
            "Loading test transform: denormalize\n",
            "Loading test transform: denormalize\n",
            "Loading test transform: denormalize\n",
            "No test transform\n"
          ]
        },
        {
          "name": "stderr",
          "output_type": "stream",
          "text": [
            "GPU available: False, used: False\n",
            "TPU available: False, using: 0 TPU cores\n",
            "IPU available: False, using: 0 IPUs\n",
            "HPU available: False, using: 0 HPUs\n",
            "/opt/conda/envs/bias_correction/lib/python3.11/site-packages/pytorch_lightning/trainer/connectors/data_connector.py:441: The 'test_dataloader' does not have many workers which may be a bottleneck. Consider increasing the value of the `num_workers` argument` to `num_workers=127` in the `DataLoader` to improve performance.\n"
          ]
        },
        {
          "data": {
            "application/vnd.jupyter.widget-view+json": {
              "model_id": "4b84e4b43181404489ff8d4e1301e8d9",
              "version_major": 2,
              "version_minor": 0
            },
            "text/plain": [
              "Testing: |          | 0/? [00:00<?, ?it/s]"
            ]
          },
          "metadata": {},
          "output_type": "display_data"
        },
        {
          "data": {
            "text/html": [
              "<pre style=\"white-space:pre;overflow-x:auto;line-height:normal;font-family:Menlo,'DejaVu Sans Mono',consolas,'Courier New',monospace\">┏━━━━━━━━━━━━━━━━━━━━━━━━━━━━━━━━━━━━━━━━┳━━━━━━━━━━━━━━━━━━━━━━━━━━━━━━━━━━━━━━━━┓\n",
              "┃<span style=\"font-weight: bold\">              Test metric               </span>┃<span style=\"font-weight: bold\">              DataLoader 0              </span>┃\n",
              "┡━━━━━━━━━━━━━━━━━━━━━━━━━━━━━━━━━━━━━━━━╇━━━━━━━━━━━━━━━━━━━━━━━━━━━━━━━━━━━━━━━━┩\n",
              "│<span style=\"color: #008080; text-decoration-color: #008080\"> test/mean_bias:10m_u_component_of_wind </span>│<span style=\"color: #800080; text-decoration-color: #800080\">         -0.023121390491724014          </span>│\n",
              "│<span style=\"color: #008080; text-decoration-color: #008080\"> test/mean_bias:10m_v_component_of_wind </span>│<span style=\"color: #800080; text-decoration-color: #800080\">         -0.0034593292511999607         </span>│\n",
              "│<span style=\"color: #008080; text-decoration-color: #008080\">     test/mean_bias:2m_temperature      </span>│<span style=\"color: #800080; text-decoration-color: #800080\">          -0.12681575119495392          </span>│\n",
              "│<span style=\"color: #008080; text-decoration-color: #008080\">        test/mean_bias:aggregate        </span>│<span style=\"color: #800080; text-decoration-color: #800080\">          -11.200458526611328           </span>│\n",
              "│<span style=\"color: #008080; text-decoration-color: #008080\">    test/mean_bias:surface_pressure     </span>│<span style=\"color: #800080; text-decoration-color: #800080\">              -44.6484375               </span>│\n",
              "│<span style=\"color: #008080; text-decoration-color: #008080\">    test/mse:10m_u_component_of_wind    </span>│<span style=\"color: #800080; text-decoration-color: #800080\">           34.938941955566406           </span>│\n",
              "│<span style=\"color: #008080; text-decoration-color: #008080\">    test/mse:10m_v_component_of_wind    </span>│<span style=\"color: #800080; text-decoration-color: #800080\">           36.00859832763672            </span>│\n",
              "│<span style=\"color: #008080; text-decoration-color: #008080\">        test/mse:2m_temperature         </span>│<span style=\"color: #800080; text-decoration-color: #800080\">           29.183940887451172           </span>│\n",
              "│<span style=\"color: #008080; text-decoration-color: #008080\">           test/mse:aggregate           </span>│<span style=\"color: #800080; text-decoration-color: #800080\">                913708.0                </span>│\n",
              "│<span style=\"color: #008080; text-decoration-color: #008080\">       test/mse:surface_pressure        </span>│<span style=\"color: #800080; text-decoration-color: #800080\">               3654731.5                </span>│\n",
              "│<span style=\"color: #008080; text-decoration-color: #008080\">  test/pearson:10m_u_component_of_wind  </span>│<span style=\"color: #800080; text-decoration-color: #800080\">          0.45916029810905457           </span>│\n",
              "│<span style=\"color: #008080; text-decoration-color: #008080\">  test/pearson:10m_v_component_of_wind  </span>│<span style=\"color: #800080; text-decoration-color: #800080\">          0.21616476774215698           </span>│\n",
              "│<span style=\"color: #008080; text-decoration-color: #008080\">      test/pearson:2m_temperature       </span>│<span style=\"color: #800080; text-decoration-color: #800080\">           1.0766712427139282           </span>│\n",
              "│<span style=\"color: #008080; text-decoration-color: #008080\">         test/pearson:aggregate         </span>│<span style=\"color: #800080; text-decoration-color: #800080\">           0.7179632186889648           </span>│\n",
              "│<span style=\"color: #008080; text-decoration-color: #008080\">     test/pearson:surface_pressure      </span>│<span style=\"color: #800080; text-decoration-color: #800080\">           1.1198564767837524           </span>│\n",
              "│<span style=\"color: #008080; text-decoration-color: #008080\">   test/rmse:10m_u_component_of_wind    </span>│<span style=\"color: #800080; text-decoration-color: #800080\">           5.9006452560424805           </span>│\n",
              "│<span style=\"color: #008080; text-decoration-color: #008080\">   test/rmse:10m_v_component_of_wind    </span>│<span style=\"color: #800080; text-decoration-color: #800080\">           5.991654872894287            </span>│\n",
              "│<span style=\"color: #008080; text-decoration-color: #008080\">        test/rmse:2m_temperature        </span>│<span style=\"color: #800080; text-decoration-color: #800080\">           5.359344482421875            </span>│\n",
              "│<span style=\"color: #008080; text-decoration-color: #008080\">          test/rmse:aggregate           </span>│<span style=\"color: #800080; text-decoration-color: #800080\">            481.51708984375             </span>│\n",
              "│<span style=\"color: #008080; text-decoration-color: #008080\">       test/rmse:surface_pressure       </span>│<span style=\"color: #800080; text-decoration-color: #800080\">             1908.81640625              </span>│\n",
              "└────────────────────────────────────────┴────────────────────────────────────────┘\n",
              "</pre>\n"
            ],
            "text/plain": [
              "┏━━━━━━━━━━━━━━━━━━━━━━━━━━━━━━━━━━━━━━━━┳━━━━━━━━━━━━━━━━━━━━━━━━━━━━━━━━━━━━━━━━┓\n",
              "┃\u001b[1m \u001b[0m\u001b[1m             Test metric              \u001b[0m\u001b[1m \u001b[0m┃\u001b[1m \u001b[0m\u001b[1m             DataLoader 0             \u001b[0m\u001b[1m \u001b[0m┃\n",
              "┡━━━━━━━━━━━━━━━━━━━━━━━━━━━━━━━━━━━━━━━━╇━━━━━━━━━━━━━━━━━━━━━━━━━━━━━━━━━━━━━━━━┩\n",
              "│\u001b[36m \u001b[0m\u001b[36mtest/mean_bias:10m_u_component_of_wind\u001b[0m\u001b[36m \u001b[0m│\u001b[35m \u001b[0m\u001b[35m        -0.023121390491724014         \u001b[0m\u001b[35m \u001b[0m│\n",
              "│\u001b[36m \u001b[0m\u001b[36mtest/mean_bias:10m_v_component_of_wind\u001b[0m\u001b[36m \u001b[0m│\u001b[35m \u001b[0m\u001b[35m        -0.0034593292511999607        \u001b[0m\u001b[35m \u001b[0m│\n",
              "│\u001b[36m \u001b[0m\u001b[36m    test/mean_bias:2m_temperature     \u001b[0m\u001b[36m \u001b[0m│\u001b[35m \u001b[0m\u001b[35m         -0.12681575119495392         \u001b[0m\u001b[35m \u001b[0m│\n",
              "│\u001b[36m \u001b[0m\u001b[36m       test/mean_bias:aggregate       \u001b[0m\u001b[36m \u001b[0m│\u001b[35m \u001b[0m\u001b[35m         -11.200458526611328          \u001b[0m\u001b[35m \u001b[0m│\n",
              "│\u001b[36m \u001b[0m\u001b[36m   test/mean_bias:surface_pressure    \u001b[0m\u001b[36m \u001b[0m│\u001b[35m \u001b[0m\u001b[35m             -44.6484375              \u001b[0m\u001b[35m \u001b[0m│\n",
              "│\u001b[36m \u001b[0m\u001b[36m   test/mse:10m_u_component_of_wind   \u001b[0m\u001b[36m \u001b[0m│\u001b[35m \u001b[0m\u001b[35m          34.938941955566406          \u001b[0m\u001b[35m \u001b[0m│\n",
              "│\u001b[36m \u001b[0m\u001b[36m   test/mse:10m_v_component_of_wind   \u001b[0m\u001b[36m \u001b[0m│\u001b[35m \u001b[0m\u001b[35m          36.00859832763672           \u001b[0m\u001b[35m \u001b[0m│\n",
              "│\u001b[36m \u001b[0m\u001b[36m       test/mse:2m_temperature        \u001b[0m\u001b[36m \u001b[0m│\u001b[35m \u001b[0m\u001b[35m          29.183940887451172          \u001b[0m\u001b[35m \u001b[0m│\n",
              "│\u001b[36m \u001b[0m\u001b[36m          test/mse:aggregate          \u001b[0m\u001b[36m \u001b[0m│\u001b[35m \u001b[0m\u001b[35m               913708.0               \u001b[0m\u001b[35m \u001b[0m│\n",
              "│\u001b[36m \u001b[0m\u001b[36m      test/mse:surface_pressure       \u001b[0m\u001b[36m \u001b[0m│\u001b[35m \u001b[0m\u001b[35m              3654731.5               \u001b[0m\u001b[35m \u001b[0m│\n",
              "│\u001b[36m \u001b[0m\u001b[36m test/pearson:10m_u_component_of_wind \u001b[0m\u001b[36m \u001b[0m│\u001b[35m \u001b[0m\u001b[35m         0.45916029810905457          \u001b[0m\u001b[35m \u001b[0m│\n",
              "│\u001b[36m \u001b[0m\u001b[36m test/pearson:10m_v_component_of_wind \u001b[0m\u001b[36m \u001b[0m│\u001b[35m \u001b[0m\u001b[35m         0.21616476774215698          \u001b[0m\u001b[35m \u001b[0m│\n",
              "│\u001b[36m \u001b[0m\u001b[36m     test/pearson:2m_temperature      \u001b[0m\u001b[36m \u001b[0m│\u001b[35m \u001b[0m\u001b[35m          1.0766712427139282          \u001b[0m\u001b[35m \u001b[0m│\n",
              "│\u001b[36m \u001b[0m\u001b[36m        test/pearson:aggregate        \u001b[0m\u001b[36m \u001b[0m│\u001b[35m \u001b[0m\u001b[35m          0.7179632186889648          \u001b[0m\u001b[35m \u001b[0m│\n",
              "│\u001b[36m \u001b[0m\u001b[36m    test/pearson:surface_pressure     \u001b[0m\u001b[36m \u001b[0m│\u001b[35m \u001b[0m\u001b[35m          1.1198564767837524          \u001b[0m\u001b[35m \u001b[0m│\n",
              "│\u001b[36m \u001b[0m\u001b[36m  test/rmse:10m_u_component_of_wind   \u001b[0m\u001b[36m \u001b[0m│\u001b[35m \u001b[0m\u001b[35m          5.9006452560424805          \u001b[0m\u001b[35m \u001b[0m│\n",
              "│\u001b[36m \u001b[0m\u001b[36m  test/rmse:10m_v_component_of_wind   \u001b[0m\u001b[36m \u001b[0m│\u001b[35m \u001b[0m\u001b[35m          5.991654872894287           \u001b[0m\u001b[35m \u001b[0m│\n",
              "│\u001b[36m \u001b[0m\u001b[36m       test/rmse:2m_temperature       \u001b[0m\u001b[36m \u001b[0m│\u001b[35m \u001b[0m\u001b[35m          5.359344482421875           \u001b[0m\u001b[35m \u001b[0m│\n",
              "│\u001b[36m \u001b[0m\u001b[36m         test/rmse:aggregate          \u001b[0m\u001b[36m \u001b[0m│\u001b[35m \u001b[0m\u001b[35m           481.51708984375            \u001b[0m\u001b[35m \u001b[0m│\n",
              "│\u001b[36m \u001b[0m\u001b[36m      test/rmse:surface_pressure      \u001b[0m\u001b[36m \u001b[0m│\u001b[35m \u001b[0m\u001b[35m            1908.81640625             \u001b[0m\u001b[35m \u001b[0m│\n",
              "└────────────────────────────────────────┴────────────────────────────────────────┘\n"
            ]
          },
          "metadata": {},
          "output_type": "display_data"
        },
        {
          "data": {
            "text/plain": [
              "[{'test/rmse:2m_temperature': 5.359344482421875,\n",
              "  'test/rmse:10m_u_component_of_wind': 5.9006452560424805,\n",
              "  'test/rmse:10m_v_component_of_wind': 5.991654872894287,\n",
              "  'test/rmse:surface_pressure': 1908.81640625,\n",
              "  'test/rmse:aggregate': 481.51708984375,\n",
              "  'test/pearson:2m_temperature': 1.0766712427139282,\n",
              "  'test/pearson:10m_u_component_of_wind': 0.45916029810905457,\n",
              "  'test/pearson:10m_v_component_of_wind': 0.21616476774215698,\n",
              "  'test/pearson:surface_pressure': 1.1198564767837524,\n",
              "  'test/pearson:aggregate': 0.7179632186889648,\n",
              "  'test/mean_bias:2m_temperature': -0.12681575119495392,\n",
              "  'test/mean_bias:10m_u_component_of_wind': -0.023121390491724014,\n",
              "  'test/mean_bias:10m_v_component_of_wind': -0.0034593292511999607,\n",
              "  'test/mean_bias:surface_pressure': -44.6484375,\n",
              "  'test/mean_bias:aggregate': -11.200458526611328,\n",
              "  'test/mse:2m_temperature': 29.183940887451172,\n",
              "  'test/mse:10m_u_component_of_wind': 34.938941955566406,\n",
              "  'test/mse:10m_v_component_of_wind': 36.00859832763672,\n",
              "  'test/mse:surface_pressure': 3654731.5,\n",
              "  'test/mse:aggregate': 913708.0}]"
            ]
          },
          "execution_count": 3,
          "metadata": {},
          "output_type": "execute_result"
        }
      ],
      "source": [
        "nearest = load_downscaling_module(\n",
        "    data_module=dm_cmip_era,\n",
        "    architecture=\"nearest-interpolation\"\n",
        ")\n",
        "\n",
        "trainer = pl.Trainer()\n",
        "trainer.test(nearest, dm_cmip_era)"
      ]
    },
    {
      "attachments": {},
      "cell_type": "markdown",
      "metadata": {
        "id": "VkNg5SrUzOeV"
      },
      "source": [
        "ClimateLearn provides standard metrics. For forecasting, it displays the latitude weighted RMSE and the latitude weighted ACC. Lower RMSE is better, while higher ACC is better. ACC has a range of [0, 1]. We use latitude weighting to adjust for the fact that we flatten the curved surface of the Earth to a 2D grid, which is squishes information at the equator and stretches information near the poles. For more info about these metrics, see this link: https://geo.libretexts.org/Bookshelves/Meteorology_and_Climate_Science/Practical_Meteorology_(Stull)/20%3A_Numerical_Weather_Prediction_(NWP)/20.7%3A_Forecast_Quality_and_Verfication\n",
        "\n",
        "Also, you might have noticed the metrics with `aggregate` as the suffix. These represent averages. For example, `lat_rmse:aggregate` is the average of `lat_rmse:temperature` and `lat_rmse:geopotential`.\n",
        "\n",
        "Besides these metrics, ClimateLearn also provides visualization tools. In the following cell, we first get the denormalization tranfsorm to transform the data returned by the PyTorch Lightning data module, which was normalized to $\\mathcal{N}(0,1)$, back into its original range. As we can see the logging messages displayed in the previous cell's output, the persistence model's 0-th test tranfsormation is denormalization.\n",
        "\n",
        "Then, we visualize the ground truth, prediction, and bias for the persistence prediction made on the 0-th sample of the testing set. Bias is defined as predicted minus observed (see the link provided above). It is useful to gain a visual understanding of model performance. In this example, we can see that persistence generally underpredicts the true values.\n",
        "\n",
        "For weather forecasting with history greater than 1, the visualization function also returns a value which we save here as `in_graphic`. This graphic can be animated, as seen in the next code cell."
      ]
    }
  ],
  "metadata": {
    "accelerator": "GPU",
    "colab": {
      "gpuType": "T4",
      "provenance": []
    },
    "kernelspec": {
      "display_name": "Python 3",
      "name": "python3"
    },
    "language_info": {
      "codemirror_mode": {
        "name": "ipython",
        "version": 3
      },
      "file_extension": ".py",
      "mimetype": "text/x-python",
      "name": "python",
      "nbconvert_exporter": "python",
      "pygments_lexer": "ipython3",
      "version": "3.12.3"
    },
    "widgets": {
      "application/vnd.jupyter.widget-state+json": {
        "13abcd9a2e724e059e6d4c538ffe889a": {
          "model_module": "@jupyter-widgets/base",
          "model_module_version": "1.2.0",
          "model_name": "LayoutModel",
          "state": {
            "_model_module": "@jupyter-widgets/base",
            "_model_module_version": "1.2.0",
            "_model_name": "LayoutModel",
            "_view_count": null,
            "_view_module": "@jupyter-widgets/base",
            "_view_module_version": "1.2.0",
            "_view_name": "LayoutView",
            "align_content": null,
            "align_items": null,
            "align_self": null,
            "border": null,
            "bottom": null,
            "display": null,
            "flex": null,
            "flex_flow": null,
            "grid_area": null,
            "grid_auto_columns": null,
            "grid_auto_flow": null,
            "grid_auto_rows": null,
            "grid_column": null,
            "grid_gap": null,
            "grid_row": null,
            "grid_template_areas": null,
            "grid_template_columns": null,
            "grid_template_rows": null,
            "height": null,
            "justify_content": null,
            "justify_items": null,
            "left": null,
            "margin": null,
            "max_height": null,
            "max_width": null,
            "min_height": null,
            "min_width": null,
            "object_fit": null,
            "object_position": null,
            "order": null,
            "overflow": null,
            "overflow_x": null,
            "overflow_y": null,
            "padding": null,
            "right": null,
            "top": null,
            "visibility": null,
            "width": null
          }
        },
        "16e44229fb724c3f85bc0b6f7dd86c45": {
          "model_module": "@jupyter-widgets/base",
          "model_module_version": "1.2.0",
          "model_name": "LayoutModel",
          "state": {
            "_model_module": "@jupyter-widgets/base",
            "_model_module_version": "1.2.0",
            "_model_name": "LayoutModel",
            "_view_count": null,
            "_view_module": "@jupyter-widgets/base",
            "_view_module_version": "1.2.0",
            "_view_name": "LayoutView",
            "align_content": null,
            "align_items": null,
            "align_self": null,
            "border": null,
            "bottom": null,
            "display": "inline-flex",
            "flex": null,
            "flex_flow": "row wrap",
            "grid_area": null,
            "grid_auto_columns": null,
            "grid_auto_flow": null,
            "grid_auto_rows": null,
            "grid_column": null,
            "grid_gap": null,
            "grid_row": null,
            "grid_template_areas": null,
            "grid_template_columns": null,
            "grid_template_rows": null,
            "height": null,
            "justify_content": null,
            "justify_items": null,
            "left": null,
            "margin": null,
            "max_height": null,
            "max_width": null,
            "min_height": null,
            "min_width": null,
            "object_fit": null,
            "object_position": null,
            "order": null,
            "overflow": null,
            "overflow_x": null,
            "overflow_y": null,
            "padding": null,
            "right": null,
            "top": null,
            "visibility": null,
            "width": "100%"
          }
        },
        "1da5c642bf634cb5b35ccba3619ff4c9": {
          "model_module": "@jupyter-widgets/base",
          "model_module_version": "1.2.0",
          "model_name": "LayoutModel",
          "state": {
            "_model_module": "@jupyter-widgets/base",
            "_model_module_version": "1.2.0",
            "_model_name": "LayoutModel",
            "_view_count": null,
            "_view_module": "@jupyter-widgets/base",
            "_view_module_version": "1.2.0",
            "_view_name": "LayoutView",
            "align_content": null,
            "align_items": null,
            "align_self": null,
            "border": null,
            "bottom": null,
            "display": null,
            "flex": null,
            "flex_flow": null,
            "grid_area": null,
            "grid_auto_columns": null,
            "grid_auto_flow": null,
            "grid_auto_rows": null,
            "grid_column": null,
            "grid_gap": null,
            "grid_row": null,
            "grid_template_areas": null,
            "grid_template_columns": null,
            "grid_template_rows": null,
            "height": null,
            "justify_content": null,
            "justify_items": null,
            "left": null,
            "margin": null,
            "max_height": null,
            "max_width": null,
            "min_height": null,
            "min_width": null,
            "object_fit": null,
            "object_position": null,
            "order": null,
            "overflow": null,
            "overflow_x": null,
            "overflow_y": null,
            "padding": null,
            "right": null,
            "top": null,
            "visibility": null,
            "width": null
          }
        },
        "2f97f73cab694612bb3151797ab85d50": {
          "model_module": "@jupyter-widgets/controls",
          "model_module_version": "1.5.0",
          "model_name": "FloatProgressModel",
          "state": {
            "_dom_classes": [],
            "_model_module": "@jupyter-widgets/controls",
            "_model_module_version": "1.5.0",
            "_model_name": "FloatProgressModel",
            "_view_count": null,
            "_view_module": "@jupyter-widgets/controls",
            "_view_module_version": "1.5.0",
            "_view_name": "ProgressView",
            "bar_style": "success",
            "description": "",
            "description_tooltip": null,
            "layout": "IPY_MODEL_6c4afba98d934616b3fd5f277140db49",
            "max": 1,
            "min": 0,
            "orientation": "horizontal",
            "style": "IPY_MODEL_7c956ab21a9e43dd88cb28247622cd3f",
            "value": 1
          }
        },
        "339c3a61ba8f47d89cdb437baea61056": {
          "model_module": "@jupyter-widgets/base",
          "model_module_version": "1.2.0",
          "model_name": "LayoutModel",
          "state": {
            "_model_module": "@jupyter-widgets/base",
            "_model_module_version": "1.2.0",
            "_model_name": "LayoutModel",
            "_view_count": null,
            "_view_module": "@jupyter-widgets/base",
            "_view_module_version": "1.2.0",
            "_view_name": "LayoutView",
            "align_content": null,
            "align_items": null,
            "align_self": null,
            "border": null,
            "bottom": null,
            "display": null,
            "flex": null,
            "flex_flow": null,
            "grid_area": null,
            "grid_auto_columns": null,
            "grid_auto_flow": null,
            "grid_auto_rows": null,
            "grid_column": null,
            "grid_gap": null,
            "grid_row": null,
            "grid_template_areas": null,
            "grid_template_columns": null,
            "grid_template_rows": null,
            "height": null,
            "justify_content": null,
            "justify_items": null,
            "left": null,
            "margin": null,
            "max_height": null,
            "max_width": null,
            "min_height": null,
            "min_width": null,
            "object_fit": null,
            "object_position": null,
            "order": null,
            "overflow": null,
            "overflow_x": null,
            "overflow_y": null,
            "padding": null,
            "right": null,
            "top": null,
            "visibility": null,
            "width": null
          }
        },
        "3cd97411741d4ec792774956eea5f57f": {
          "model_module": "@jupyter-widgets/output",
          "model_module_version": "1.0.0",
          "model_name": "OutputModel",
          "state": {
            "_dom_classes": [],
            "_model_module": "@jupyter-widgets/output",
            "_model_module_version": "1.0.0",
            "_model_name": "OutputModel",
            "_view_count": null,
            "_view_module": "@jupyter-widgets/output",
            "_view_module_version": "1.0.0",
            "_view_name": "OutputView",
            "layout": "IPY_MODEL_9a741cc53a82407e8c9c394629fe6759",
            "msg_id": "",
            "outputs": [
              {
                "data": {
                  "text/html": "<pre style=\"white-space:pre;overflow-x:auto;line-height:normal;font-family:Menlo,'DejaVu Sans Mono',consolas,'Courier New',monospace\"><span style=\"color: #c0c0c0; text-decoration-color: #c0c0c0\">Epoch 0/0 </span> <span style=\"color: #5e0ad0; text-decoration-color: #5e0ad0\">━</span><span style=\"color: #6107db; text-decoration-color: #6107db\">━</span><span style=\"color: #6206e0; text-decoration-color: #6206e0\">━</span><span style=\"color: #6107db; text-decoration-color: #6107db\">━</span><span style=\"color: #5e0ad0; text-decoration-color: #5e0ad0\">━</span><span style=\"color: #5910bd; text-decoration-color: #5910bd\">━</span><span style=\"color: #5417a6; text-decoration-color: #5417a6\">━</span><span style=\"color: #4e1f8d; text-decoration-color: #4e1f8d\">━</span><span style=\"color: #472873; text-decoration-color: #472873\">━</span><span style=\"color: #422f5c; text-decoration-color: #422f5c\">━</span><span style=\"color: #3d3549; text-decoration-color: #3d3549\">━</span><span style=\"color: #3a383e; text-decoration-color: #3a383e\">━</span><span style=\"color: #3a3a3a; text-decoration-color: #3a3a3a\">━</span><span style=\"color: #3a383e; text-decoration-color: #3a383e\">━</span><span style=\"color: #3d3549; text-decoration-color: #3d3549\">━</span><span style=\"color: #422f5c; text-decoration-color: #422f5c\">━</span><span style=\"color: #472873; text-decoration-color: #472873\">━</span><span style=\"color: #4e208d; text-decoration-color: #4e208d\">━</span><span style=\"color: #5417a6; text-decoration-color: #5417a6\">━</span><span style=\"color: #5910bd; text-decoration-color: #5910bd\">━</span><span style=\"color: #5e0ad0; text-decoration-color: #5e0ad0\">━</span><span style=\"color: #6107db; text-decoration-color: #6107db\">━</span><span style=\"color: #6206e0; text-decoration-color: #6206e0\">━</span><span style=\"color: #6107db; text-decoration-color: #6107db\">━</span><span style=\"color: #5e0ad0; text-decoration-color: #5e0ad0\">━</span><span style=\"color: #5910bd; text-decoration-color: #5910bd\">━</span><span style=\"color: #5417a6; text-decoration-color: #5417a6\">━</span><span style=\"color: #4e1f8d; text-decoration-color: #4e1f8d\">━</span><span style=\"color: #472873; text-decoration-color: #472873\">━</span><span style=\"color: #422f5c; text-decoration-color: #422f5c\">━</span><span style=\"color: #3d3549; text-decoration-color: #3d3549\">━</span><span style=\"color: #3a383e; text-decoration-color: #3a383e\">━</span><span style=\"color: #3a3a3a; text-decoration-color: #3a3a3a\">━</span> <span style=\"color: #c0c0c0; text-decoration-color: #c0c0c0\">1530/--</span> <span style=\"color: #8a8a8a; text-decoration-color: #8a8a8a\">0:10:27 • -:--:--</span> <span style=\"color: #b2b2b2; text-decoration-color: #b2b2b2\">2.83it/s</span> <span style=\"color: #c0c0c0; text-decoration-color: #c0c0c0\">v_num: 0 train/lat_mse:aggregate:  </span>\n                                                                                <span style=\"color: #c0c0c0; text-decoration-color: #c0c0c0\">0.019                              </span>\n</pre>\n",
                  "text/plain": "\u001b[37mEpoch 0/0 \u001b[0m \u001b[38;2;94;10;208m━\u001b[0m\u001b[38;2;97;7;219m━\u001b[0m\u001b[38;2;98;6;224m━\u001b[0m\u001b[38;2;97;7;219m━\u001b[0m\u001b[38;2;94;10;208m━\u001b[0m\u001b[38;2;89;16;189m━\u001b[0m\u001b[38;2;84;23;166m━\u001b[0m\u001b[38;2;78;31;141m━\u001b[0m\u001b[38;2;71;40;115m━\u001b[0m\u001b[38;2;66;47;92m━\u001b[0m\u001b[38;2;61;53;73m━\u001b[0m\u001b[38;2;58;56;62m━\u001b[0m\u001b[38;2;58;58;58m━\u001b[0m\u001b[38;2;58;56;62m━\u001b[0m\u001b[38;2;61;53;73m━\u001b[0m\u001b[38;2;66;47;92m━\u001b[0m\u001b[38;2;71;40;115m━\u001b[0m\u001b[38;2;78;32;141m━\u001b[0m\u001b[38;2;84;23;166m━\u001b[0m\u001b[38;2;89;16;189m━\u001b[0m\u001b[38;2;94;10;208m━\u001b[0m\u001b[38;2;97;7;219m━\u001b[0m\u001b[38;2;98;6;224m━\u001b[0m\u001b[38;2;97;7;219m━\u001b[0m\u001b[38;2;94;10;208m━\u001b[0m\u001b[38;2;89;16;189m━\u001b[0m\u001b[38;2;84;23;166m━\u001b[0m\u001b[38;2;78;31;141m━\u001b[0m\u001b[38;2;71;40;115m━\u001b[0m\u001b[38;2;66;47;92m━\u001b[0m\u001b[38;2;61;53;73m━\u001b[0m\u001b[38;2;58;56;62m━\u001b[0m\u001b[38;2;58;58;58m━\u001b[0m \u001b[37m1530/--\u001b[0m \u001b[38;5;245m0:10:27 • -:--:--\u001b[0m \u001b[38;5;249m2.83it/s\u001b[0m \u001b[37mv_num: 0 train/lat_mse:aggregate:  \u001b[0m\n                                                                                \u001b[37m0.019                              \u001b[0m\n"
                },
                "metadata": {},
                "output_type": "display_data"
              }
            ]
          }
        },
        "46913ebf2920448ab7e4421fff41e7bd": {
          "model_module": "@jupyter-widgets/controls",
          "model_module_version": "1.5.0",
          "model_name": "HBoxModel",
          "state": {
            "_dom_classes": [],
            "_model_module": "@jupyter-widgets/controls",
            "_model_module_version": "1.5.0",
            "_model_name": "HBoxModel",
            "_view_count": null,
            "_view_module": "@jupyter-widgets/controls",
            "_view_module_version": "1.5.0",
            "_view_name": "HBoxView",
            "box_style": "",
            "children": [
              "IPY_MODEL_a83b8bb369174edf999ad804cb1a9c4f",
              "IPY_MODEL_2f97f73cab694612bb3151797ab85d50",
              "IPY_MODEL_ce082e1180e546d0a45676e112673f02"
            ],
            "layout": "IPY_MODEL_96cf4617cf7f44929754d7f5390ecde9"
          }
        },
        "4f9ecc20290a4adb9be40faa1b44a056": {
          "model_module": "@jupyter-widgets/controls",
          "model_module_version": "1.5.0",
          "model_name": "HTMLModel",
          "state": {
            "_dom_classes": [],
            "_model_module": "@jupyter-widgets/controls",
            "_model_module_version": "1.5.0",
            "_model_name": "HTMLModel",
            "_view_count": null,
            "_view_module": "@jupyter-widgets/controls",
            "_view_module_version": "1.5.0",
            "_view_name": "HTMLView",
            "description": "",
            "description_tooltip": null,
            "layout": "IPY_MODEL_13abcd9a2e724e059e6d4c538ffe889a",
            "placeholder": "​",
            "style": "IPY_MODEL_ac0fc5f828644428927b4df101958b9b",
            "value": "Testing DataLoader 0: "
          }
        },
        "513a2a318bbe4c448835337736ebe9d5": {
          "model_module": "@jupyter-widgets/controls",
          "model_module_version": "1.5.0",
          "model_name": "DescriptionStyleModel",
          "state": {
            "_model_module": "@jupyter-widgets/controls",
            "_model_module_version": "1.5.0",
            "_model_name": "DescriptionStyleModel",
            "_view_count": null,
            "_view_module": "@jupyter-widgets/base",
            "_view_module_version": "1.2.0",
            "_view_name": "StyleView",
            "description_width": ""
          }
        },
        "5e0fa8d1d3f444d288dba5f75a078f63": {
          "model_module": "@jupyter-widgets/controls",
          "model_module_version": "1.5.0",
          "model_name": "FloatProgressModel",
          "state": {
            "_dom_classes": [],
            "_model_module": "@jupyter-widgets/controls",
            "_model_module_version": "1.5.0",
            "_model_name": "FloatProgressModel",
            "_view_count": null,
            "_view_module": "@jupyter-widgets/controls",
            "_view_module_version": "1.5.0",
            "_view_name": "ProgressView",
            "bar_style": "success",
            "description": "",
            "description_tooltip": null,
            "layout": "IPY_MODEL_f1f44758bf1742909f3d207875d25007",
            "max": 1,
            "min": 0,
            "orientation": "horizontal",
            "style": "IPY_MODEL_ab5a4140314e4d4ca64b6a34050572d4",
            "value": 1
          }
        },
        "64da7f47dc7f404bbedee37a18b3d4ed": {
          "model_module": "@jupyter-widgets/controls",
          "model_module_version": "1.5.0",
          "model_name": "HTMLModel",
          "state": {
            "_dom_classes": [],
            "_model_module": "@jupyter-widgets/controls",
            "_model_module_version": "1.5.0",
            "_model_name": "HTMLModel",
            "_view_count": null,
            "_view_module": "@jupyter-widgets/controls",
            "_view_module_version": "1.5.0",
            "_view_name": "HTMLView",
            "description": "",
            "description_tooltip": null,
            "layout": "IPY_MODEL_c438da1a4c064403a237be437a105583",
            "placeholder": "​",
            "style": "IPY_MODEL_eeb7d4a7fd2f491b9d150709f85d344f",
            "value": " 40/? [00:01&lt;00:00, 21.88it/s]"
          }
        },
        "6c4afba98d934616b3fd5f277140db49": {
          "model_module": "@jupyter-widgets/base",
          "model_module_version": "1.2.0",
          "model_name": "LayoutModel",
          "state": {
            "_model_module": "@jupyter-widgets/base",
            "_model_module_version": "1.2.0",
            "_model_name": "LayoutModel",
            "_view_count": null,
            "_view_module": "@jupyter-widgets/base",
            "_view_module_version": "1.2.0",
            "_view_name": "LayoutView",
            "align_content": null,
            "align_items": null,
            "align_self": null,
            "border": null,
            "bottom": null,
            "display": null,
            "flex": "2",
            "flex_flow": null,
            "grid_area": null,
            "grid_auto_columns": null,
            "grid_auto_flow": null,
            "grid_auto_rows": null,
            "grid_column": null,
            "grid_gap": null,
            "grid_row": null,
            "grid_template_areas": null,
            "grid_template_columns": null,
            "grid_template_rows": null,
            "height": null,
            "justify_content": null,
            "justify_items": null,
            "left": null,
            "margin": null,
            "max_height": null,
            "max_width": null,
            "min_height": null,
            "min_width": null,
            "object_fit": null,
            "object_position": null,
            "order": null,
            "overflow": null,
            "overflow_x": null,
            "overflow_y": null,
            "padding": null,
            "right": null,
            "top": null,
            "visibility": null,
            "width": null
          }
        },
        "7c956ab21a9e43dd88cb28247622cd3f": {
          "model_module": "@jupyter-widgets/controls",
          "model_module_version": "1.5.0",
          "model_name": "ProgressStyleModel",
          "state": {
            "_model_module": "@jupyter-widgets/controls",
            "_model_module_version": "1.5.0",
            "_model_name": "ProgressStyleModel",
            "_view_count": null,
            "_view_module": "@jupyter-widgets/base",
            "_view_module_version": "1.2.0",
            "_view_name": "StyleView",
            "bar_color": null,
            "description_width": ""
          }
        },
        "7dc2b997e4654ecdb777802d6f34ae8b": {
          "model_module": "@jupyter-widgets/output",
          "model_module_version": "1.0.0",
          "model_name": "OutputModel",
          "state": {
            "_dom_classes": [],
            "_model_module": "@jupyter-widgets/output",
            "_model_module_version": "1.0.0",
            "_model_name": "OutputModel",
            "_view_count": null,
            "_view_module": "@jupyter-widgets/output",
            "_view_module_version": "1.0.0",
            "_view_name": "OutputView",
            "layout": "IPY_MODEL_d49a429e44954fe3bb15c588e93e3214",
            "msg_id": "",
            "outputs": [
              {
                "data": {
                  "text/html": "<pre style=\"white-space:pre;overflow-x:auto;line-height:normal;font-family:Menlo,'DejaVu Sans Mono',consolas,'Courier New',monospace\"><span style=\"color: #c0c0c0; text-decoration-color: #c0c0c0\">Testing</span> <span style=\"color: #6107db; text-decoration-color: #6107db\">━</span><span style=\"color: #6206e0; text-decoration-color: #6206e0\">━</span><span style=\"color: #6107db; text-decoration-color: #6107db\">━</span><span style=\"color: #5e0ad0; text-decoration-color: #5e0ad0\">━</span><span style=\"color: #5910bd; text-decoration-color: #5910bd\">━</span><span style=\"color: #5417a6; text-decoration-color: #5417a6\">━</span><span style=\"color: #4e1f8d; text-decoration-color: #4e1f8d\">━</span><span style=\"color: #472873; text-decoration-color: #472873\">━</span><span style=\"color: #422f5c; text-decoration-color: #422f5c\">━</span><span style=\"color: #3d3549; text-decoration-color: #3d3549\">━</span><span style=\"color: #3a383e; text-decoration-color: #3a383e\">━</span><span style=\"color: #3a3a3a; text-decoration-color: #3a3a3a\">━</span><span style=\"color: #3a383e; text-decoration-color: #3a383e\">━</span><span style=\"color: #3d3549; text-decoration-color: #3d3549\">━</span><span style=\"color: #422f5c; text-decoration-color: #422f5c\">━</span><span style=\"color: #472873; text-decoration-color: #472873\">━</span><span style=\"color: #4e208d; text-decoration-color: #4e208d\">━</span><span style=\"color: #5417a6; text-decoration-color: #5417a6\">━</span><span style=\"color: #5910bd; text-decoration-color: #5910bd\">━</span><span style=\"color: #5e0ad0; text-decoration-color: #5e0ad0\">━</span><span style=\"color: #6107db; text-decoration-color: #6107db\">━</span><span style=\"color: #6206e0; text-decoration-color: #6206e0\">━</span><span style=\"color: #6107db; text-decoration-color: #6107db\">━</span><span style=\"color: #5e0ad0; text-decoration-color: #5e0ad0\">━</span><span style=\"color: #5910bd; text-decoration-color: #5910bd\">━</span><span style=\"color: #5417a6; text-decoration-color: #5417a6\">━</span><span style=\"color: #4e1f8d; text-decoration-color: #4e1f8d\">━</span><span style=\"color: #472873; text-decoration-color: #472873\">━</span><span style=\"color: #422f5c; text-decoration-color: #422f5c\">━</span><span style=\"color: #3d3549; text-decoration-color: #3d3549\">━</span><span style=\"color: #3a383e; text-decoration-color: #3a383e\">━</span><span style=\"color: #3a3a3a; text-decoration-color: #3a3a3a\">━</span><span style=\"color: #3a383e; text-decoration-color: #3a383e\">━</span><span style=\"color: #3d3549; text-decoration-color: #3d3549\">━</span><span style=\"color: #422f5c; text-decoration-color: #422f5c\">━</span><span style=\"color: #472873; text-decoration-color: #472873\">━</span><span style=\"color: #4e208d; text-decoration-color: #4e208d\">━</span><span style=\"color: #5417a6; text-decoration-color: #5417a6\">━</span><span style=\"color: #5910bd; text-decoration-color: #5910bd\">━</span><span style=\"color: #5e0ad0; text-decoration-color: #5e0ad0\">━</span> <span style=\"color: #c0c0c0; text-decoration-color: #c0c0c0\">43/--</span> <span style=\"color: #8a8a8a; text-decoration-color: #8a8a8a\">0:00:07 • -:--:--</span> <span style=\"color: #b2b2b2; text-decoration-color: #b2b2b2\">5.97it/s</span>  \n</pre>\n",
                  "text/plain": "\u001b[37mTesting\u001b[0m \u001b[38;2;97;7;219m━\u001b[0m\u001b[38;2;98;6;224m━\u001b[0m\u001b[38;2;97;7;219m━\u001b[0m\u001b[38;2;94;10;208m━\u001b[0m\u001b[38;2;89;16;189m━\u001b[0m\u001b[38;2;84;23;166m━\u001b[0m\u001b[38;2;78;31;141m━\u001b[0m\u001b[38;2;71;40;115m━\u001b[0m\u001b[38;2;66;47;92m━\u001b[0m\u001b[38;2;61;53;73m━\u001b[0m\u001b[38;2;58;56;62m━\u001b[0m\u001b[38;2;58;58;58m━\u001b[0m\u001b[38;2;58;56;62m━\u001b[0m\u001b[38;2;61;53;73m━\u001b[0m\u001b[38;2;66;47;92m━\u001b[0m\u001b[38;2;71;40;115m━\u001b[0m\u001b[38;2;78;32;141m━\u001b[0m\u001b[38;2;84;23;166m━\u001b[0m\u001b[38;2;89;16;189m━\u001b[0m\u001b[38;2;94;10;208m━\u001b[0m\u001b[38;2;97;7;219m━\u001b[0m\u001b[38;2;98;6;224m━\u001b[0m\u001b[38;2;97;7;219m━\u001b[0m\u001b[38;2;94;10;208m━\u001b[0m\u001b[38;2;89;16;189m━\u001b[0m\u001b[38;2;84;23;166m━\u001b[0m\u001b[38;2;78;31;141m━\u001b[0m\u001b[38;2;71;40;115m━\u001b[0m\u001b[38;2;66;47;92m━\u001b[0m\u001b[38;2;61;53;73m━\u001b[0m\u001b[38;2;58;56;62m━\u001b[0m\u001b[38;2;58;58;58m━\u001b[0m\u001b[38;2;58;56;62m━\u001b[0m\u001b[38;2;61;53;73m━\u001b[0m\u001b[38;2;66;47;92m━\u001b[0m\u001b[38;2;71;40;115m━\u001b[0m\u001b[38;2;78;32;141m━\u001b[0m\u001b[38;2;84;23;166m━\u001b[0m\u001b[38;2;89;16;189m━\u001b[0m\u001b[38;2;94;10;208m━\u001b[0m \u001b[37m43/--\u001b[0m \u001b[38;5;245m0:00:07 • -:--:--\u001b[0m \u001b[38;5;249m5.97it/s\u001b[0m  \n"
                },
                "metadata": {},
                "output_type": "display_data"
              }
            ]
          }
        },
        "96cf4617cf7f44929754d7f5390ecde9": {
          "model_module": "@jupyter-widgets/base",
          "model_module_version": "1.2.0",
          "model_name": "LayoutModel",
          "state": {
            "_model_module": "@jupyter-widgets/base",
            "_model_module_version": "1.2.0",
            "_model_name": "LayoutModel",
            "_view_count": null,
            "_view_module": "@jupyter-widgets/base",
            "_view_module_version": "1.2.0",
            "_view_name": "LayoutView",
            "align_content": null,
            "align_items": null,
            "align_self": null,
            "border": null,
            "bottom": null,
            "display": "inline-flex",
            "flex": null,
            "flex_flow": "row wrap",
            "grid_area": null,
            "grid_auto_columns": null,
            "grid_auto_flow": null,
            "grid_auto_rows": null,
            "grid_column": null,
            "grid_gap": null,
            "grid_row": null,
            "grid_template_areas": null,
            "grid_template_columns": null,
            "grid_template_rows": null,
            "height": null,
            "justify_content": null,
            "justify_items": null,
            "left": null,
            "margin": null,
            "max_height": null,
            "max_width": null,
            "min_height": null,
            "min_width": null,
            "object_fit": null,
            "object_position": null,
            "order": null,
            "overflow": null,
            "overflow_x": null,
            "overflow_y": null,
            "padding": null,
            "right": null,
            "top": null,
            "visibility": null,
            "width": "100%"
          }
        },
        "97668a06aa65408bb09f8c85e67dfd1c": {
          "model_module": "@jupyter-widgets/controls",
          "model_module_version": "1.5.0",
          "model_name": "HBoxModel",
          "state": {
            "_dom_classes": [],
            "_model_module": "@jupyter-widgets/controls",
            "_model_module_version": "1.5.0",
            "_model_name": "HBoxModel",
            "_view_count": null,
            "_view_module": "@jupyter-widgets/controls",
            "_view_module_version": "1.5.0",
            "_view_name": "HBoxView",
            "box_style": "",
            "children": [
              "IPY_MODEL_4f9ecc20290a4adb9be40faa1b44a056",
              "IPY_MODEL_5e0fa8d1d3f444d288dba5f75a078f63",
              "IPY_MODEL_64da7f47dc7f404bbedee37a18b3d4ed"
            ],
            "layout": "IPY_MODEL_16e44229fb724c3f85bc0b6f7dd86c45"
          }
        },
        "9a741cc53a82407e8c9c394629fe6759": {
          "model_module": "@jupyter-widgets/base",
          "model_module_version": "1.2.0",
          "model_name": "LayoutModel",
          "state": {
            "_model_module": "@jupyter-widgets/base",
            "_model_module_version": "1.2.0",
            "_model_name": "LayoutModel",
            "_view_count": null,
            "_view_module": "@jupyter-widgets/base",
            "_view_module_version": "1.2.0",
            "_view_name": "LayoutView",
            "align_content": null,
            "align_items": null,
            "align_self": null,
            "border": null,
            "bottom": null,
            "display": null,
            "flex": null,
            "flex_flow": null,
            "grid_area": null,
            "grid_auto_columns": null,
            "grid_auto_flow": null,
            "grid_auto_rows": null,
            "grid_column": null,
            "grid_gap": null,
            "grid_row": null,
            "grid_template_areas": null,
            "grid_template_columns": null,
            "grid_template_rows": null,
            "height": null,
            "justify_content": null,
            "justify_items": null,
            "left": null,
            "margin": null,
            "max_height": null,
            "max_width": null,
            "min_height": null,
            "min_width": null,
            "object_fit": null,
            "object_position": null,
            "order": null,
            "overflow": null,
            "overflow_x": null,
            "overflow_y": null,
            "padding": null,
            "right": null,
            "top": null,
            "visibility": null,
            "width": null
          }
        },
        "a83b8bb369174edf999ad804cb1a9c4f": {
          "model_module": "@jupyter-widgets/controls",
          "model_module_version": "1.5.0",
          "model_name": "HTMLModel",
          "state": {
            "_dom_classes": [],
            "_model_module": "@jupyter-widgets/controls",
            "_model_module_version": "1.5.0",
            "_model_name": "HTMLModel",
            "_view_count": null,
            "_view_module": "@jupyter-widgets/controls",
            "_view_module_version": "1.5.0",
            "_view_name": "HTMLView",
            "description": "",
            "description_tooltip": null,
            "layout": "IPY_MODEL_339c3a61ba8f47d89cdb437baea61056",
            "placeholder": "​",
            "style": "IPY_MODEL_513a2a318bbe4c448835337736ebe9d5",
            "value": "Testing DataLoader 0: "
          }
        },
        "ab5a4140314e4d4ca64b6a34050572d4": {
          "model_module": "@jupyter-widgets/controls",
          "model_module_version": "1.5.0",
          "model_name": "ProgressStyleModel",
          "state": {
            "_model_module": "@jupyter-widgets/controls",
            "_model_module_version": "1.5.0",
            "_model_name": "ProgressStyleModel",
            "_view_count": null,
            "_view_module": "@jupyter-widgets/base",
            "_view_module_version": "1.2.0",
            "_view_name": "StyleView",
            "bar_color": null,
            "description_width": ""
          }
        },
        "ac0fc5f828644428927b4df101958b9b": {
          "model_module": "@jupyter-widgets/controls",
          "model_module_version": "1.5.0",
          "model_name": "DescriptionStyleModel",
          "state": {
            "_model_module": "@jupyter-widgets/controls",
            "_model_module_version": "1.5.0",
            "_model_name": "DescriptionStyleModel",
            "_view_count": null,
            "_view_module": "@jupyter-widgets/base",
            "_view_module_version": "1.2.0",
            "_view_name": "StyleView",
            "description_width": ""
          }
        },
        "c438da1a4c064403a237be437a105583": {
          "model_module": "@jupyter-widgets/base",
          "model_module_version": "1.2.0",
          "model_name": "LayoutModel",
          "state": {
            "_model_module": "@jupyter-widgets/base",
            "_model_module_version": "1.2.0",
            "_model_name": "LayoutModel",
            "_view_count": null,
            "_view_module": "@jupyter-widgets/base",
            "_view_module_version": "1.2.0",
            "_view_name": "LayoutView",
            "align_content": null,
            "align_items": null,
            "align_self": null,
            "border": null,
            "bottom": null,
            "display": null,
            "flex": null,
            "flex_flow": null,
            "grid_area": null,
            "grid_auto_columns": null,
            "grid_auto_flow": null,
            "grid_auto_rows": null,
            "grid_column": null,
            "grid_gap": null,
            "grid_row": null,
            "grid_template_areas": null,
            "grid_template_columns": null,
            "grid_template_rows": null,
            "height": null,
            "justify_content": null,
            "justify_items": null,
            "left": null,
            "margin": null,
            "max_height": null,
            "max_width": null,
            "min_height": null,
            "min_width": null,
            "object_fit": null,
            "object_position": null,
            "order": null,
            "overflow": null,
            "overflow_x": null,
            "overflow_y": null,
            "padding": null,
            "right": null,
            "top": null,
            "visibility": null,
            "width": null
          }
        },
        "ce082e1180e546d0a45676e112673f02": {
          "model_module": "@jupyter-widgets/controls",
          "model_module_version": "1.5.0",
          "model_name": "HTMLModel",
          "state": {
            "_dom_classes": [],
            "_model_module": "@jupyter-widgets/controls",
            "_model_module_version": "1.5.0",
            "_model_name": "HTMLModel",
            "_view_count": null,
            "_view_module": "@jupyter-widgets/controls",
            "_view_module_version": "1.5.0",
            "_view_name": "HTMLView",
            "description": "",
            "description_tooltip": null,
            "layout": "IPY_MODEL_1da5c642bf634cb5b35ccba3619ff4c9",
            "placeholder": "​",
            "style": "IPY_MODEL_e5be2704139e488392222b0e68453d58",
            "value": " 40/? [00:02&lt;00:00, 19.80it/s]"
          }
        },
        "d49a429e44954fe3bb15c588e93e3214": {
          "model_module": "@jupyter-widgets/base",
          "model_module_version": "1.2.0",
          "model_name": "LayoutModel",
          "state": {
            "_model_module": "@jupyter-widgets/base",
            "_model_module_version": "1.2.0",
            "_model_name": "LayoutModel",
            "_view_count": null,
            "_view_module": "@jupyter-widgets/base",
            "_view_module_version": "1.2.0",
            "_view_name": "LayoutView",
            "align_content": null,
            "align_items": null,
            "align_self": null,
            "border": null,
            "bottom": null,
            "display": null,
            "flex": null,
            "flex_flow": null,
            "grid_area": null,
            "grid_auto_columns": null,
            "grid_auto_flow": null,
            "grid_auto_rows": null,
            "grid_column": null,
            "grid_gap": null,
            "grid_row": null,
            "grid_template_areas": null,
            "grid_template_columns": null,
            "grid_template_rows": null,
            "height": null,
            "justify_content": null,
            "justify_items": null,
            "left": null,
            "margin": null,
            "max_height": null,
            "max_width": null,
            "min_height": null,
            "min_width": null,
            "object_fit": null,
            "object_position": null,
            "order": null,
            "overflow": null,
            "overflow_x": null,
            "overflow_y": null,
            "padding": null,
            "right": null,
            "top": null,
            "visibility": null,
            "width": null
          }
        },
        "e5be2704139e488392222b0e68453d58": {
          "model_module": "@jupyter-widgets/controls",
          "model_module_version": "1.5.0",
          "model_name": "DescriptionStyleModel",
          "state": {
            "_model_module": "@jupyter-widgets/controls",
            "_model_module_version": "1.5.0",
            "_model_name": "DescriptionStyleModel",
            "_view_count": null,
            "_view_module": "@jupyter-widgets/base",
            "_view_module_version": "1.2.0",
            "_view_name": "StyleView",
            "description_width": ""
          }
        },
        "eeb7d4a7fd2f491b9d150709f85d344f": {
          "model_module": "@jupyter-widgets/controls",
          "model_module_version": "1.5.0",
          "model_name": "DescriptionStyleModel",
          "state": {
            "_model_module": "@jupyter-widgets/controls",
            "_model_module_version": "1.5.0",
            "_model_name": "DescriptionStyleModel",
            "_view_count": null,
            "_view_module": "@jupyter-widgets/base",
            "_view_module_version": "1.2.0",
            "_view_name": "StyleView",
            "description_width": ""
          }
        },
        "f1f44758bf1742909f3d207875d25007": {
          "model_module": "@jupyter-widgets/base",
          "model_module_version": "1.2.0",
          "model_name": "LayoutModel",
          "state": {
            "_model_module": "@jupyter-widgets/base",
            "_model_module_version": "1.2.0",
            "_model_name": "LayoutModel",
            "_view_count": null,
            "_view_module": "@jupyter-widgets/base",
            "_view_module_version": "1.2.0",
            "_view_name": "LayoutView",
            "align_content": null,
            "align_items": null,
            "align_self": null,
            "border": null,
            "bottom": null,
            "display": null,
            "flex": "2",
            "flex_flow": null,
            "grid_area": null,
            "grid_auto_columns": null,
            "grid_auto_flow": null,
            "grid_auto_rows": null,
            "grid_column": null,
            "grid_gap": null,
            "grid_row": null,
            "grid_template_areas": null,
            "grid_template_columns": null,
            "grid_template_rows": null,
            "height": null,
            "justify_content": null,
            "justify_items": null,
            "left": null,
            "margin": null,
            "max_height": null,
            "max_width": null,
            "min_height": null,
            "min_width": null,
            "object_fit": null,
            "object_position": null,
            "order": null,
            "overflow": null,
            "overflow_x": null,
            "overflow_y": null,
            "padding": null,
            "right": null,
            "top": null,
            "visibility": null,
            "width": null
          }
        }
      }
    }
  },
  "nbformat": 4,
  "nbformat_minor": 0
}
